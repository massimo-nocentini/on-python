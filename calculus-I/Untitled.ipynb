{
 "cells": [
  {
   "cell_type": "code",
   "execution_count": 11,
   "id": "amino-summit",
   "metadata": {},
   "outputs": [],
   "source": [
    "from sympy import *\n",
    "from sympy.abc import x, y, m, n, z, r"
   ]
  },
  {
   "cell_type": "code",
   "execution_count": 8,
   "id": "checked-topic",
   "metadata": {},
   "outputs": [
    {
     "data": {
      "text/latex": [
       "$\\displaystyle \\frac{x^{2} - x}{x + 4} \\geq 3$"
      ],
      "text/plain": [
       "(x**2 - x)/(x + 4) >= 3"
      ]
     },
     "execution_count": 8,
     "metadata": {},
     "output_type": "execute_result"
    }
   ],
   "source": [
    "dis = (x**2 - x)/(4 + x) >= 3\n",
    "dis"
   ]
  },
  {
   "cell_type": "code",
   "execution_count": 9,
   "id": "piano-summit",
   "metadata": {},
   "outputs": [
    {
     "data": {
      "text/latex": [
       "$\\displaystyle \\frac{3}{x}$"
      ],
      "text/plain": [
       "3/x"
      ]
     },
     "execution_count": 9,
     "metadata": {},
     "output_type": "execute_result"
    }
   ],
   "source": [
    "3/x"
   ]
  },
  {
   "cell_type": "code",
   "execution_count": 19,
   "id": "governing-preserve",
   "metadata": {},
   "outputs": [
    {
     "data": {
      "text/latex": [
       "$\\displaystyle \\frac{x}{\\sqrt[4]{\\frac{45 y^{2}}{16} + y + \\frac{225}{16}}}$"
      ],
      "text/plain": [
       "x/(45*y**2/16 + y + 225/16)**(1/4)"
      ]
     },
     "execution_count": 19,
     "metadata": {},
     "output_type": "execute_result"
    }
   ],
   "source": [
    "x/(sqrt(sqrt(y + 45/S(16)*(y**2 + 5))))"
   ]
  },
  {
   "cell_type": "code",
   "execution_count": 12,
   "id": "assured-benchmark",
   "metadata": {},
   "outputs": [
    {
     "data": {
      "text/latex": [
       "$\\displaystyle x = m y + r$"
      ],
      "text/plain": [
       "Eq(x, m*y + r)"
      ]
     },
     "execution_count": 12,
     "metadata": {},
     "output_type": "execute_result"
    }
   ],
   "source": [
    "Eq(x, m*y + r, evaluate=False)"
   ]
  },
  {
   "cell_type": "code",
   "execution_count": 13,
   "id": "handed-taxation",
   "metadata": {},
   "outputs": [
    {
     "data": {
      "text/latex": [
       "$\\displaystyle \\frac{15}{7}$"
      ],
      "text/plain": [
       "15/7"
      ]
     },
     "execution_count": 13,
     "metadata": {},
     "output_type": "execute_result"
    }
   ],
   "source": [
    "S(15)/7"
   ]
  },
  {
   "cell_type": "code",
   "execution_count": 15,
   "id": "intense-segment",
   "metadata": {},
   "outputs": [
    {
     "data": {
      "text/latex": [
       "$\\displaystyle 15 = 7 m + r$"
      ],
      "text/plain": [
       "Eq(15, 7*m + r)"
      ]
     },
     "execution_count": 15,
     "metadata": {},
     "output_type": "execute_result"
    }
   ],
   "source": [
    "eq = Eq(15, m*7 + r, evaluate=False)\n",
    "eq"
   ]
  },
  {
   "cell_type": "code",
   "execution_count": 16,
   "id": "superior-harbor",
   "metadata": {},
   "outputs": [
    {
     "data": {
      "text/latex": [
       "$\\displaystyle \\text{True}$"
      ],
      "text/plain": [
       "True"
      ]
     },
     "execution_count": 16,
     "metadata": {},
     "output_type": "execute_result"
    }
   ],
   "source": [
    "eq.subs({m:2, r:1})"
   ]
  },
  {
   "cell_type": "markdown",
   "id": "fourth-complex",
   "metadata": {},
   "source": [
    "$${{15}\\over{0}} \\quad\\leftrightarrow\\quad 15 = 0m + r =  r \\quad m, r\\in\\mathbb{Z} \\wedge r < 15$$\n",
    "Se scelgo\n",
    "$$m=1, r=0 \\quad\\rightarrow\\quad 15 \\not = 0*1 + 0 = 0$$\n",
    "\n",
    "Ritornando al nostro problema iniziale, il denominatore $x+4\\not=0$ per ogni $x\\in\\mathbb{R}$, quindi $x\\not=-4$."
   ]
  },
  {
   "cell_type": "code",
   "execution_count": 21,
   "id": "better-qatar",
   "metadata": {},
   "outputs": [
    {
     "data": {
      "text/latex": [
       "$\\displaystyle \\frac{x^{2} - x}{x + 4} \\geq 3$"
      ],
      "text/plain": [
       "(x**2 - x)/(x + 4) >= 3"
      ]
     },
     "execution_count": 21,
     "metadata": {},
     "output_type": "execute_result"
    }
   ],
   "source": [
    "dis"
   ]
  },
  {
   "cell_type": "markdown",
   "id": "recognized-breast",
   "metadata": {},
   "source": [
    "**Intermezzo**, questo che abbiamo scritto e' la condizione di esistenza rispetto alla divisione. Ce ne possono essere altre, ad esempio:"
   ]
  },
  {
   "cell_type": "code",
   "execution_count": 23,
   "id": "streaming-video",
   "metadata": {},
   "outputs": [
    {
     "data": {
      "text/latex": [
       "$\\displaystyle \\sqrt{x + 1}$"
      ],
      "text/plain": [
       "sqrt(x + 1)"
      ]
     },
     "execution_count": 23,
     "metadata": {},
     "output_type": "execute_result"
    }
   ],
   "source": [
    "sqrt(x+1)"
   ]
  },
  {
   "cell_type": "markdown",
   "id": "gorgeous-category",
   "metadata": {},
   "source": [
    "La scrittura $\\sqrt{y}$ significa che devo trovare un numero $z\\in\\mathbb{R}$ tale che $y = z^2$. Quindi, ha senso $\\sqrt{-3}$? No, perche' non esiste $z\\in\\mathbb{R}$ tale che $-3=z^2$. Tornando alla scrittura sopra, devo trovare un numero $z\\in\\mathbb{R}$ tale che $x+1 = z^2$. Qual e' la condizione per cui riesco effettivamente a trovare questo $z$? Quando $x + 1\\geq 0$, ovvero $x \\geq -1$."
   ]
  },
  {
   "cell_type": "code",
   "execution_count": 24,
   "id": "through-cargo",
   "metadata": {},
   "outputs": [
    {
     "data": {
      "text/latex": [
       "$\\displaystyle \\left(6 \\leq x \\wedge x < \\infty\\right) \\vee \\left(x \\leq -2 \\wedge -4 < x\\right)$"
      ],
      "text/plain": [
       "((6 <= x) & (x < oo)) | ((x <= -2) & (-4 < x))"
      ]
     },
     "execution_count": 24,
     "metadata": {},
     "output_type": "execute_result"
    }
   ],
   "source": [
    "solve(dis)"
   ]
  }
 ],
 "metadata": {
  "kernelspec": {
   "display_name": "Python 3",
   "language": "python",
   "name": "python3"
  },
  "language_info": {
   "codemirror_mode": {
    "name": "ipython",
    "version": 3
   },
   "file_extension": ".py",
   "mimetype": "text/x-python",
   "name": "python",
   "nbconvert_exporter": "python",
   "pygments_lexer": "ipython3",
   "version": "3.9.1"
  }
 },
 "nbformat": 4,
 "nbformat_minor": 5
}
