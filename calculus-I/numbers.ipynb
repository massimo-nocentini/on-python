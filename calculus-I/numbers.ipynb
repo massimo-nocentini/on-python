{
 "cells": [
  {
   "cell_type": "markdown",
   "metadata": {},
   "source": [
    "# Numeri\n",
    "\n",
    "In questa pagina introdurremo diversi insiemi di numeri, facendosi aiutare da un sistema di calcolo simbolico:"
   ]
  },
  {
   "cell_type": "code",
   "execution_count": 1,
   "metadata": {},
   "outputs": [],
   "source": [
    "from sympy import *"
   ]
  },
  {
   "cell_type": "code",
   "execution_count": 2,
   "metadata": {},
   "outputs": [],
   "source": [
    "init_printing()"
   ]
  },
  {
   "cell_type": "code",
   "execution_count": 3,
   "metadata": {},
   "outputs": [],
   "source": [
    "x = symbols('x')"
   ]
  },
  {
   "cell_type": "code",
   "execution_count": 5,
   "metadata": {},
   "outputs": [
    {
     "data": {
      "image/png": "[encoded data removed]",
      "text/latex": [
       "$\\displaystyle x^{2}$"
      ],
      "text/plain": [
       " 2\n",
       "x "
      ]
     },
     "execution_count": 5,
     "metadata": {},
     "output_type": "execute_result"
    }
   ],
   "source": [
    "x**2"
   ]
  },
  {
   "cell_type": "markdown",
   "metadata": {},
   "source": [
    "## $\\mathbb{N}$\n",
    "\n",
    "L'insieme dei Naturali $\\mathbb{N} = \\lbrace 0, 1, 2, 3, 4, ..., \\infty \\rbrace$ e' stato definito *per risolvere il problema del conteggio* di un insieme arbitrario."
   ]
  },
  {
   "cell_type": "code",
   "execution_count": 12,
   "metadata": {},
   "outputs": [
    {
     "data": {
      "image/png": "[encoded data removed]",
      "text/latex": [
       "$\\displaystyle x + 3 = 2$"
      ],
      "text/plain": [
       "x + 3 = 2"
      ]
     },
     "execution_count": 12,
     "metadata": {},
     "output_type": "execute_result"
    }
   ],
   "source": [
    "eq = Eq(x + 3, 2, evaluate=False)\n",
    "eq"
   ]
  },
  {
   "cell_type": "markdown",
   "metadata": {},
   "source": [
    "Quando leggi la scrittura matematica $x + 3 = 2$, questa significa la seguente cosa: voglio trovare l'insieme $\\mathcal{X}$ tale che $\\mathcal{X} = \\lbrace x \\in \\mathbb{N} : x + 3 = 2 \\rbrace$. In questo caso, $\\mathcal{X} = \\emptyset$ perche' nessun naturale $x$ soddisfa l'equazione.\n",
    "\n",
    "Allo stesso modo, per l'equazione"
   ]
  },
  {
   "cell_type": "code",
   "execution_count": 18,
   "metadata": {},
   "outputs": [
    {
     "data": {
      "image/png": "[encoded data removed]",
      "text/latex": [
       "$\\displaystyle x^{2} + 3 x - 1 = 0$"
      ],
      "text/plain": [
       " 2              \n",
       "x  + 3⋅x - 1 = 0"
      ]
     },
     "execution_count": 18,
     "metadata": {},
     "output_type": "execute_result"
    }
   ],
   "source": [
    "Eq(x**2 + 3*x -1, 0, evaluate = False)"
   ]
  },
  {
   "cell_type": "markdown",
   "metadata": {},
   "source": [
    "puoi leggere la scrittura matematica $x^2 + 3x -1 = 0$, questa significa la seguente cosa: voglio trovare l'insieme $\\mathcal{X}$ tale che $\\mathcal{X} = \\lbrace x \\in \\mathbb{N} : x^2 + 3x -1 = 0 \\rbrace$. Comunque, qui siamo gia avanti per capire la gerarchia dei numeri, solo per applicare il concetto precedente."
   ]
  },
  {
   "cell_type": "markdown",
   "metadata": {},
   "source": [
    "## $\\mathbb{Z}$\n",
    "\n",
    "Dato che $x = -1$ non ha soluzioni in $\\mathbb{N}$, si definisce l'insieme $\\mathbb{Z}$ dei numeri interi definito come $\\mathbb{Z} = \\lbrace -\\infty, ..., -2, -1, 0, 1, 2, ..., \\infty\\rbrace$. Infatti, risolvendo l'equazione rispetto a $x$,"
   ]
  },
  {
   "cell_type": "code",
   "execution_count": 16,
   "metadata": {},
   "outputs": [
    {
     "data": {
      "image/png": "[encoded data removed]",
      "text/latex": [
       "$\\displaystyle \\left[ \\left\\{ x : -1\\right\\}\\right]$"
      ],
      "text/plain": [
       "[{x: -1}]"
      ]
     },
     "execution_count": 16,
     "metadata": {},
     "output_type": "execute_result"
    }
   ],
   "source": [
    "solve(eq, [x], dict=True)"
   ]
  },
  {
   "cell_type": "markdown",
   "metadata": {},
   "source": [
    "Quando leggi la scrittura matematica $x + 3 = 2$, questa significa la seguente cosa: voglio trovare l'insieme $\\mathcal{X}$ tale che $\\mathcal{X} = \\lbrace x \\in \\mathbb{Z} : x + 3 = 2 \\rbrace$. In questo caso, $\\mathcal{X} = \\lbrace -1 \\rbrace$."
   ]
  },
  {
   "cell_type": "markdown",
   "metadata": {},
   "source": [
    "**Intermezzo sulla costruzione degli insiemi.**\n",
    "\n",
    "\n",
    "Lo schema per definire un insieme $\\mathcal{X}$ e' questo: \n",
    "\n",
    "<center>$\\mathcal{X} = \\lbrace x\\in\\mathcal{Y}: p(x) \\text{ e' vero } \\rbrace$</center>\n",
    "\n",
    "dove $\\mathcal{Y}$ e' un insieme gia definito e $p$ e' un predicato, ovvero una espressione logica su $x$ che puo' essere o vera o falsa. Poi puoi scegliere un nome al posto di $\\mathcal{X}$ a tua scelta. Importante: **quando uso questa scrittura, ottengo e definisco sempre un insieme**."
   ]
  },
  {
   "cell_type": "markdown",
   "metadata": {},
   "source": [
    "## $\\mathbb{Q}$\n",
    "\n",
    "Adesso supponiamo di voler risolvere"
   ]
  },
  {
   "cell_type": "code",
   "execution_count": 22,
   "metadata": {},
   "outputs": [
    {
     "data": {
      "image/png": "[encoded data removed]",
      "text/latex": [
       "$\\displaystyle 3 x = -2$"
      ],
      "text/plain": [
       "3⋅x = -2"
      ]
     },
     "execution_count": 22,
     "metadata": {},
     "output_type": "execute_result"
    }
   ],
   "source": [
    "eq = Eq(3*x, -2, evaluate=False)\n",
    "eq"
   ]
  },
  {
   "cell_type": "markdown",
   "metadata": {},
   "source": [
    "Ha significato $\\mathcal{X} = \\lbrace x \\in \\mathbb{N} : 3x = -2 \\rbrace$ ? La risposta e' *si*, in questo caso $\\mathcal{X}=\\emptyset$."
   ]
  },
  {
   "cell_type": "markdown",
   "metadata": {},
   "source": [
    "Ha significato $\\mathcal{X} = \\lbrace x \\in \\mathbb{Z} : 3x = -2 \\rbrace$ ? La risposta e' *si*, in questo caso $\\mathcal{X}=\\emptyset$."
   ]
  },
  {
   "cell_type": "markdown",
   "metadata": {},
   "source": [
    "Dato che $3x = -2$ non ha soluzioni ne in $\\mathbb{N}$ ne in $\\mathbb{Z}$, si definisce l'insieme $\\mathbb{Q}$ dei numeri razionali definito come $\\mathbb{Q} = \\left\\lbrace z \\in\\mathbb{Z} \\wedge y \\in\\mathbb{Z}\\setminus\\lbrace0\\rbrace: y\\,x = z\\right\\rbrace$. Infatti, risolvendo l'equazione rispetto a $x$,"
   ]
  },
  {
   "cell_type": "code",
   "execution_count": 23,
   "metadata": {},
   "outputs": [
    {
     "data": {
      "image/png": "[encoded data removed]",
      "text/latex": [
       "$\\displaystyle \\left[ \\left\\{ x : - \\frac{2}{3}\\right\\}\\right]$"
      ],
      "text/plain": [
       "[{x: -2/3}]"
      ]
     },
     "execution_count": 23,
     "metadata": {},
     "output_type": "execute_result"
    }
   ],
   "source": [
    "solve(eq, [x], dict=True)"
   ]
  },
  {
   "cell_type": "markdown",
   "metadata": {},
   "source": [
    "dove in questo caso sia $y=3$ sia $z=-2$ sono in $\\mathbb{Z}$."
   ]
  },
  {
   "cell_type": "markdown",
   "metadata": {},
   "source": [
    "## $\\mathbb{R}$\n",
    "\n",
    "Adesso supponiamo di voler risolvere"
   ]
  },
  {
   "cell_type": "code",
   "execution_count": 25,
   "metadata": {},
   "outputs": [
    {
     "data": {
      "image/png": "[encoded data removed]",
      "text/latex": [
       "$\\displaystyle x^{2} = 3$"
      ],
      "text/plain": [
       " 2    \n",
       "x  = 3"
      ]
     },
     "execution_count": 25,
     "metadata": {},
     "output_type": "execute_result"
    }
   ],
   "source": [
    "eq = Eq(x**2, 3, evaluate=False)\n",
    "eq"
   ]
  },
  {
   "cell_type": "markdown",
   "metadata": {},
   "source": [
    "Ha significato $\\mathcal{X} = \\lbrace x \\in \\mathbb{N} : x^2 = 3 \\rbrace$ ? La risposta e' *si*, in questo caso $\\mathcal{X}=\\emptyset$."
   ]
  },
  {
   "cell_type": "markdown",
   "metadata": {},
   "source": [
    "Ha significato $\\mathcal{X} = \\lbrace x \\in \\mathbb{Z} : x^2 = 3 \\rbrace$ ? La risposta e' *si*, in questo caso $\\mathcal{X}=\\emptyset$."
   ]
  },
  {
   "cell_type": "markdown",
   "metadata": {},
   "source": [
    "Ha significato $\\mathcal{X} = \\lbrace x, y \\in \\mathbb{Z} : \\left({{x}\\over{y}}\\right)^2 = 3 \\rbrace$ ? "
   ]
  },
  {
   "cell_type": "code",
   "execution_count": 32,
   "metadata": {},
   "outputs": [
    {
     "data": {
      "image/png": "[encoded data removed]",
      "text/latex": [
       "$\\displaystyle \\left[ -5, \\  -4, \\  -3, \\  -2, \\  -1, \\  0, \\  1, \\  2, \\  3, \\  4\\right]$"
      ],
      "text/plain": [
       "[-5, -4, -3, -2, -1, 0, 1, 2, 3, 4]"
      ]
     },
     "execution_count": 32,
     "metadata": {},
     "output_type": "execute_result"
    }
   ],
   "source": [
    "tentativi = list(map(S, range(-5, 5)))\n",
    "tentativi"
   ]
  },
  {
   "cell_type": "code",
   "execution_count": 35,
   "metadata": {},
   "outputs": [
    {
     "data": {
      "image/png": "[encoded data removed]",
      "text/latex": [
       "$\\displaystyle \\left[ 1 = 3, \\  \\frac{25}{16} = 3, \\  \\frac{25}{9} = 3, \\  \\frac{25}{4} = 3, \\  25 = 3, \\  25 = 3, \\  \\frac{25}{4} = 3, \\  \\frac{25}{9} = 3, \\  \\frac{25}{16} = 3, \\  \\frac{16}{25} = 3, \\  1 = 3, \\  \\frac{16}{9} = 3, \\  4 = 3, \\  16 = 3, \\  16 = 3, \\  4 = 3, \\  \\frac{16}{9} = 3, \\  1 = 3, \\  \\frac{9}{25} = 3, \\  \\frac{9}{16} = 3, \\  1 = 3, \\  \\frac{9}{4} = 3, \\  9 = 3, \\  9 = 3, \\  \\frac{9}{4} = 3, \\  1 = 3, \\  \\frac{9}{16} = 3, \\  \\frac{4}{25} = 3, \\  \\frac{1}{4} = 3, \\  \\frac{4}{9} = 3, \\  1 = 3, \\  4 = 3, \\  4 = 3, \\  1 = 3, \\  \\frac{4}{9} = 3, \\  \\frac{1}{4} = 3, \\  \\frac{1}{25} = 3, \\  \\frac{1}{16} = 3, \\  \\frac{1}{9} = 3, \\  \\frac{1}{4} = 3, \\  1 = 3, \\  1 = 3, \\  \\frac{1}{4} = 3, \\  \\frac{1}{9} = 3, \\  \\frac{1}{16} = 3, \\  0 = 3, \\  0 = 3, \\  0 = 3, \\  0 = 3, \\  0 = 3, \\  0 = 3, \\  0 = 3, \\  0 = 3, \\  0 = 3, \\  \\frac{1}{25} = 3, \\  \\frac{1}{16} = 3, \\  \\frac{1}{9} = 3, \\  \\frac{1}{4} = 3, \\  1 = 3, \\  1 = 3, \\  \\frac{1}{4} = 3, \\  \\frac{1}{9} = 3, \\  \\frac{1}{16} = 3, \\  \\frac{4}{25} = 3, \\  \\frac{1}{4} = 3, \\  \\frac{4}{9} = 3, \\  1 = 3, \\  4 = 3, \\  4 = 3, \\  1 = 3, \\  \\frac{4}{9} = 3, \\  \\frac{1}{4} = 3, \\  \\frac{9}{25} = 3, \\  \\frac{9}{16} = 3, \\  1 = 3, \\  \\frac{9}{4} = 3, \\  9 = 3, \\  9 = 3, \\  \\frac{9}{4} = 3, \\  1 = 3, \\  \\frac{9}{16} = 3, \\  \\frac{16}{25} = 3, \\  1 = 3, \\  \\frac{16}{9} = 3, \\  4 = 3, \\  16 = 3, \\  16 = 3, \\  4 = 3, \\  \\frac{16}{9} = 3, \\  1 = 3\\right]$"
      ],
      "text/plain": [
       "⎡       25                                                              25    \n",
       "⎢1 = 3, ── = 3, 25/9 = 3, 25/4 = 3, 25 = 3, 25 = 3, 25/4 = 3, 25/9 = 3, ── = 3\n",
       "⎣       16                                                              16    \n",
       "\n",
       "  16                                                                          \n",
       ", ── = 3, 1 = 3, 16/9 = 3, 4 = 3, 16 = 3, 16 = 3, 4 = 3, 16/9 = 3, 1 = 3, 9/25\n",
       "  25                                                                          \n",
       "\n",
       "                                                                              \n",
       " = 3, 9/16 = 3, 1 = 3, 9/4 = 3, 9 = 3, 9 = 3, 9/4 = 3, 1 = 3, 9/16 = 3, 4/25 =\n",
       "                                                                              \n",
       "\n",
       "                                                                              \n",
       " 3, 1/4 = 3, 4/9 = 3, 1 = 3, 4 = 3, 4 = 3, 1 = 3, 4/9 = 3, 1/4 = 3, 1/25 = 3, \n",
       "                                                                              \n",
       "\n",
       "                                                                              \n",
       "1/16 = 3, 1/9 = 3, 1/4 = 3, 1 = 3, 1 = 3, 1/4 = 3, 1/9 = 3, 1/16 = 3, 0 = 3, 0\n",
       "                                                                              \n",
       "\n",
       "                                                                              \n",
       " = 3, 0 = 3, 0 = 3, 0 = 3, 0 = 3, 0 = 3, 0 = 3, 0 = 3, 1/25 = 3, 1/16 = 3, 1/9\n",
       "                                                                              \n",
       "\n",
       "                                                                              \n",
       " = 3, 1/4 = 3, 1 = 3, 1 = 3, 1/4 = 3, 1/9 = 3, 1/16 = 3, 4/25 = 3, 1/4 = 3, 4/\n",
       "                                                                              \n",
       "\n",
       "                                                                              \n",
       "9 = 3, 1 = 3, 4 = 3, 4 = 3, 1 = 3, 4/9 = 3, 1/4 = 3, 9/25 = 3, 9/16 = 3, 1 = 3\n",
       "                                                                              \n",
       "\n",
       "                                                   16                         \n",
       ", 9/4 = 3, 9 = 3, 9 = 3, 9/4 = 3, 1 = 3, 9/16 = 3, ── = 3, 1 = 3, 16/9 = 3, 4 \n",
       "                                                   25                         \n",
       "\n",
       "                                           ⎤\n",
       "= 3, 16 = 3, 16 = 3, 4 = 3, 16/9 = 3, 1 = 3⎥\n",
       "                                           ⎦"
      ]
     },
     "execution_count": 35,
     "metadata": {},
     "output_type": "execute_result"
    }
   ],
   "source": [
    "equazioni = [Eq((x/y)**2, S(3), evaluate=False) for x in tentativi for y in tentativi if y]\n",
    "equazioni"
   ]
  },
  {
   "cell_type": "code",
   "execution_count": 36,
   "metadata": {},
   "outputs": [
    {
     "data": {
      "image/png": "[encoded data removed]",
      "text/latex": [
       "$\\displaystyle \\left[ \\left[ \\right], \\  \\left[ \\right], \\  \\left[ \\right], \\  \\left[ \\right], \\  \\left[ \\right], \\  \\left[ \\right], \\  \\left[ \\right], \\  \\left[ \\right], \\  \\left[ \\right], \\  \\left[ \\right], \\  \\left[ \\right], \\  \\left[ \\right], \\  \\left[ \\right], \\  \\left[ \\right], \\  \\left[ \\right], \\  \\left[ \\right], \\  \\left[ \\right], \\  \\left[ \\right], \\  \\left[ \\right], \\  \\left[ \\right], \\  \\left[ \\right], \\  \\left[ \\right], \\  \\left[ \\right], \\  \\left[ \\right], \\  \\left[ \\right], \\  \\left[ \\right], \\  \\left[ \\right], \\  \\left[ \\right], \\  \\left[ \\right], \\  \\left[ \\right], \\  \\left[ \\right], \\  \\left[ \\right], \\  \\left[ \\right], \\  \\left[ \\right], \\  \\left[ \\right], \\  \\left[ \\right], \\  \\left[ \\right], \\  \\left[ \\right], \\  \\left[ \\right], \\  \\left[ \\right], \\  \\left[ \\right], \\  \\left[ \\right], \\  \\left[ \\right], \\  \\left[ \\right], \\  \\left[ \\right], \\  \\left[ \\right], \\  \\left[ \\right], \\  \\left[ \\right], \\  \\left[ \\right], \\  \\left[ \\right], \\  \\left[ \\right], \\  \\left[ \\right], \\  \\left[ \\right], \\  \\left[ \\right], \\  \\left[ \\right], \\  \\left[ \\right], \\  \\left[ \\right], \\  \\left[ \\right], \\  \\left[ \\right], \\  \\left[ \\right], \\  \\left[ \\right], \\  \\left[ \\right], \\  \\left[ \\right], \\  \\left[ \\right], \\  \\left[ \\right], \\  \\left[ \\right], \\  \\left[ \\right], \\  \\left[ \\right], \\  \\left[ \\right], \\  \\left[ \\right], \\  \\left[ \\right], \\  \\left[ \\right], \\  \\left[ \\right], \\  \\left[ \\right], \\  \\left[ \\right], \\  \\left[ \\right], \\  \\left[ \\right], \\  \\left[ \\right], \\  \\left[ \\right], \\  \\left[ \\right], \\  \\left[ \\right], \\  \\left[ \\right], \\  \\left[ \\right], \\  \\left[ \\right], \\  \\left[ \\right], \\  \\left[ \\right], \\  \\left[ \\right], \\  \\left[ \\right], \\  \\left[ \\right], \\  \\left[ \\right]\\right]$"
      ],
      "text/plain": [
       "[[], [], [], [], [], [], [], [], [], [], [], [], [], [], [], [], [], [], [], [\n",
       "], [], [], [], [], [], [], [], [], [], [], [], [], [], [], [], [], [], [], [],\n",
       " [], [], [], [], [], [], [], [], [], [], [], [], [], [], [], [], [], [], [], [\n",
       "], [], [], [], [], [], [], [], [], [], [], [], [], [], [], [], [], [], [], [],\n",
       " [], [], [], [], [], [], [], [], [], [], [], []]"
      ]
     },
     "execution_count": 36,
     "metadata": {},
     "output_type": "execute_result"
    }
   ],
   "source": [
    "list(map(solve, equazioni))"
   ]
  },
  {
   "cell_type": "markdown",
   "metadata": {},
   "source": [
    "Ha significato $\\mathcal{X} = \\lbrace x, y \\in \\mathbb{Z} : \\left({{x}\\over{y}}\\right)^2 = 3 \\rbrace$ ? La risposta e' *si*, in questo caso $\\mathcal{X}=\\emptyset$."
   ]
  },
  {
   "cell_type": "markdown",
   "metadata": {},
   "source": [
    "Dato che $x^2 = 3$ non ha soluzioni ne in $\\mathbb{N}$ ne in $\\mathbb{Z}$ ne in $\\mathbb{Q}$, si definisce l'insieme $\\mathbb{R}$ dei numeri reali definito come $\\mathbb{R} = \\lbrace y,z \\in\\mathbb{Z}: x^y = z\\rbrace$. Infatti, risolvendo l'equazione rispetto a $x$,"
   ]
  },
  {
   "cell_type": "code",
   "execution_count": 37,
   "metadata": {},
   "outputs": [
    {
     "data": {
      "image/png": "[encoded data removed]",
      "text/latex": [
       "$\\displaystyle \\left[ \\left\\{ x : - \\sqrt{3}\\right\\}, \\  \\left\\{ x : \\sqrt{3}\\right\\}\\right]$"
      ],
      "text/plain": [
       "[{x: -√3}, {x: √3}]"
      ]
     },
     "execution_count": 37,
     "metadata": {},
     "output_type": "execute_result"
    }
   ],
   "source": [
    "solve(eq, [x], dict=True)"
   ]
  },
  {
   "cell_type": "markdown",
   "metadata": {},
   "source": [
    "dove in questo caso sia $y=2$ sia $z=3$ sono in $\\mathbb{Z}$."
   ]
  },
  {
   "cell_type": "code",
   "execution_count": 40,
   "metadata": {},
   "outputs": [
    {
     "data": {
      "text/plain": [
       "True"
      ]
     },
     "execution_count": 40,
     "metadata": {},
     "output_type": "execute_result"
    }
   ],
   "source": [
    "0.3 == 3/10"
   ]
  },
  {
   "cell_type": "code",
   "execution_count": 51,
   "metadata": {},
   "outputs": [],
   "source": [
    "#0.47368754355678678678678678678678678...(678)*... is in Q"
   ]
  },
  {
   "cell_type": "code",
   "execution_count": 43,
   "metadata": {},
   "outputs": [
    {
     "data": {
      "image/png": "[encoded data removed]",
      "text/latex": [
       "$\\displaystyle \\pi$"
      ],
      "text/plain": [
       "π"
      ]
     },
     "execution_count": 43,
     "metadata": {},
     "output_type": "execute_result"
    }
   ],
   "source": [
    "pi"
   ]
  },
  {
   "cell_type": "code",
   "execution_count": 50,
   "metadata": {},
   "outputs": [
    {
     "data": {
      "image/png": "[encoded data removed]",
      "text/latex": [
       "$\\displaystyle \\left[ \\sqrt[5]{10}\\right]$"
      ],
      "text/plain": [
       "⎡5 ____⎤\n",
       "⎣╲╱ 10 ⎦"
      ]
     },
     "execution_count": 50,
     "metadata": {},
     "output_type": "execute_result"
    }
   ],
   "source": [
    "list(filter(lambda r: r.is_real, solve(Eq(x**5, 10))))"
   ]
  }
 ],
 "metadata": {
  "kernelspec": {
   "display_name": "Python 3",
   "language": "python",
   "name": "python3"
  },
  "language_info": {
   "codemirror_mode": {
    "name": "ipython",
    "version": 3
   },
   "file_extension": ".py",
   "mimetype": "text/x-python",
   "name": "python",
   "nbconvert_exporter": "python",
   "pygments_lexer": "ipython3",
   "version": "3.9.0"
  }
 },
 "nbformat": 4,
 "nbformat_minor": 4
}
