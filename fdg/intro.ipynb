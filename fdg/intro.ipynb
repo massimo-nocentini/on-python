{
 "cells": [
  {
   "cell_type": "markdown",
   "metadata": {
    "deletable": true,
    "editable": true
   },
   "source": [
    "<p>\n",
    "<img src=\"http://www.cerm.unifi.it/chianti/images/logo%20unifi_positivo.jpg\" \n",
    "        alt=\"UniFI logo\" style=\"float: left; width: 20%; height: 20%;\">\n",
    "<div align=\"right\">\n",
    "Massimo Nocentini<br>\n",
    "<small>\n",
    "<br>May 2018: intro\n",
    "</small>\n",
    "</div>\n",
    "</p>\n",
    "<br>\n",
    "<br>\n",
    "<div align=\"center\">\n",
    "<b>Abstract</b><br>\n",
    "Translation of code in the introduction chapter of <a href=\"https://mitpress.mit.edu/books/functional-differential-geometry\">Functional Differential Geometry</a> book.\n",
    "</div>"
   ]
  },
  {
   "cell_type": "code",
   "execution_count": 46,
   "metadata": {
    "collapsed": false,
    "deletable": true,
    "editable": true
   },
   "outputs": [],
   "source": [
    "from operator import attrgetter\n",
    "from sympy import *\n",
    "init_printing()"
   ]
  },
  {
   "cell_type": "markdown",
   "metadata": {
    "deletable": true,
    "editable": true
   },
   "source": [
    "---"
   ]
  },
  {
   "cell_type": "code",
   "execution_count": 2,
   "metadata": {
    "collapsed": false,
    "deletable": true,
    "editable": true
   },
   "outputs": [],
   "source": [
    "f, L, w = Function('f'), Function('L'), Function('w') # abstract, Lagrangian and path functions, respectively\n",
    "t, q, q_point = symbols(r't q \\dot{q}') # symbols for the Leibniz notation"
   ]
  },
  {
   "cell_type": "code",
   "execution_count": 3,
   "metadata": {
    "collapsed": false,
    "deletable": true,
    "editable": true
   },
   "outputs": [
    {
     "data": {
      "image/png": "[encoded data removed]",
      "text/latex": [
       "$$- \\frac{\\partial}{\\partial q} L{\\left (t,q,\\dot{q} \\right )} + \\frac{\\partial^{2}}{\\partial \\dot{q}\\partial t}  L{\\left (t,q,\\dot{q} \\right )} = 0$$"
      ],
      "text/plain": [
       "                               2                          \n",
       "  ∂                           ∂                           \n",
       "- ──(L(t, q, \\dot{q})) + ───────────(L(t, q, \\dot{q})) = 0\n",
       "  ∂q                     ∂t ∂\\dot{q}                      "
      ]
     },
     "execution_count": 3,
     "metadata": {},
     "output_type": "execute_result"
    }
   ],
   "source": [
    "Lagrangian_eq = Eq(Derivative(Derivative(L(t, q, q_point),q_point,evaluate=False),\n",
    "                              t, evaluate=False) - L(t,q,q_point).diff(q),0)\n",
    "Lagrangian_eq # compact Lagrangian equation, implicit indeed"
   ]
  },
  {
   "cell_type": "code",
   "execution_count": 4,
   "metadata": {
    "collapsed": false,
    "deletable": true,
    "editable": true
   },
   "outputs": [
    {
     "data": {
      "image/png": "[encoded data removed]",
      "text/latex": [
       "$$\\frac{d}{d t} \\left. \\frac{\\partial}{\\partial \\dot{q}} L{\\left (t,q,\\dot{q} \\right )} \\right|_{\\substack{ q=w{\\left (t \\right )}\\\\ \\dot{q}=\\frac{d}{d t} w{\\left (t \\right )} }} - \\left. \\frac{\\partial}{\\partial q} L{\\left (t,q,\\dot{q} \\right )} \\right|_{\\substack{ q=w{\\left (t \\right )}\\\\ \\dot{q}=\\frac{d}{d t} w{\\left (t \\right )} }} = 0$$"
      ],
      "text/plain": [
       "d ⎛⎛   ∂                      ⎞│                        ⎞   ⎛∂                \n",
       "──⎜⎜────────(L(t, q, \\dot{q}))⎟│                d       ⎟ - ⎜──(L(t, q, \\dot{q\n",
       "dt⎜⎝∂\\dot{q}                  ⎠│q=w(t), \\dot{q}=──(w(t))⎟   ⎝∂q               \n",
       "  ⎝                                             dt      ⎠                     \n",
       "\n",
       "   ⎞│                            \n",
       "}))⎟│                d        = 0\n",
       "   ⎠│q=w(t), \\dot{q}=──(w(t))    \n",
       "                     dt          "
      ]
     },
     "execution_count": 4,
     "metadata": {},
     "output_type": "execute_result"
    }
   ],
   "source": [
    "Lagrangian_eq = Eq(Derivative(Subs(L(t, q, q_point).diff(q_point), [q,q_point], [w(t),w(t).diff(t)]),t) - \n",
    "                   Subs(L(t,q,q_point).diff(q), [q,q_point], [w(t),w(t).diff(t)]),0)\n",
    "Lagrangian_eq"
   ]
  },
  {
   "cell_type": "code",
   "execution_count": 5,
   "metadata": {
    "collapsed": false,
    "deletable": true,
    "editable": true
   },
   "outputs": [
    {
     "data": {
      "image/png": "[encoded data removed]",
      "text/latex": [
       "$$- \\frac{d}{d w{\\left (t \\right )}} L{\\left (t,w{\\left (t \\right )},\\frac{d}{d t} w{\\left (t \\right )} \\right )} + \\frac{d}{d t} w{\\left (t \\right )} \\frac{d^{2}}{d w{\\left (t \\right )}d \\frac{d}{d t} w{\\left (t \\right )}}  L{\\left (t,w{\\left (t \\right )},\\frac{d}{d t} w{\\left (t \\right )} \\right )} + \\frac{d^{2}}{d \\frac{d}{d t} w{\\left (t \\right )}d t}  L{\\left (t,w{\\left (t \\right )},\\frac{d}{d t} w{\\left (t \\right )} \\right )} + \\frac{d^{2}}{d \\frac{d}{d t} w{\\left (t \\right )}^{2}}  L{\\left (t,w{\\left (t \\right )},\\frac{d}{d t} w{\\left (t \\right )} \\right )} \\frac{d^{2}}{d t^{2}}  w{\\left (t \\right )} + \\left. \\frac{\\partial}{\\partial \\xi_{2}} L{\\left (t,\\xi_{2},\\frac{d}{d t} w{\\left (t \\right )} \\right )} \\right|_{\\substack{ \\xi_{2}=w{\\left (t \\right )} }} = 0$$"
      ],
      "text/plain": [
       "                                                 2                            \n",
       "    d  ⎛ ⎛         d       ⎞⎞   d               d       ⎛ ⎛         d       ⎞⎞\n",
       "- ─────⎜L⎜t, w(t), ──(w(t))⎟⎟ + ──(w(t))⋅───────────────⎜L⎜t, w(t), ──(w(t))⎟⎟\n",
       "  dw(t)⎝ ⎝         dt      ⎠⎠   dt        d             ⎝ ⎝         dt      ⎠⎠\n",
       "                                         d──(w(t)) dw(t)                      \n",
       "                                          dt                                  \n",
       "                                                                              \n",
       "\n",
       "         2                                   2                             2  \n",
       "        d      ⎛ ⎛         d       ⎞⎞       d     ⎛ ⎛         d       ⎞⎞  d   \n",
       " + ────────────⎜L⎜t, w(t), ──(w(t))⎟⎟ + ──────────⎜L⎜t, w(t), ──(w(t))⎟⎟⋅───(w\n",
       "       d       ⎝ ⎝         dt      ⎠⎠            2⎝ ⎝         dt      ⎠⎠   2  \n",
       "   dt d──(w(t))                          d                               dt   \n",
       "       dt                               d──(w(t))                             \n",
       "                                         dt                                   \n",
       "\n",
       "                                            \n",
       "       ⎛ ∂ ⎛ ⎛       d       ⎞⎞⎞│           \n",
       "(t)) + ⎜───⎜L⎜t, ξ₂, ──(w(t))⎟⎟⎟│        = 0\n",
       "       ⎝∂ξ₂⎝ ⎝       dt      ⎠⎠⎠│ξ₂=w(t)    \n",
       "                                            \n",
       "                                            \n",
       "                                            "
      ]
     },
     "execution_count": 5,
     "metadata": {},
     "output_type": "execute_result"
    }
   ],
   "source": [
    "Lagrangian_eq.doit() # a complex explosion by automatic computation"
   ]
  },
  {
   "cell_type": "code",
   "execution_count": 6,
   "metadata": {
    "collapsed": false,
    "deletable": true,
    "editable": true
   },
   "outputs": [],
   "source": [
    "def diff_positional(f, i):\n",
    "    a = IndexedBase('a')\n",
    "    der = f.diff(f.args[i])\n",
    "    def D(*args):\n",
    "        #return Lambda([a[i] for i in range(len(f.args))], \n",
    "        return der.subs({f.args[i]:args[i] for i in range(len(f.args))}, simultaneous=True)\n",
    "    return D # function D is a function of the meta-language, not in the object language"
   ]
  },
  {
   "cell_type": "code",
   "execution_count": 7,
   "metadata": {
    "collapsed": false,
    "deletable": true,
    "editable": true
   },
   "outputs": [
    {
     "data": {
      "image/png": "[encoded data removed]",
      "text/latex": [
       "$$\\left. \\frac{\\partial}{\\partial \\dot{q}} L{\\left (t,w{\\left (t \\right )},\\dot{q} \\right )} \\right|_{\\substack{ \\dot{q}=\\frac{d}{d t} w{\\left (t \\right )} }}$$"
      ],
      "text/plain": [
       "⎛   ∂                         ⎞│                \n",
       "⎜────────(L(t, w(t), \\dot{q}))⎟│        d       \n",
       "⎝∂\\dot{q}                     ⎠│\\dot{q}=──(w(t))\n",
       "                                        dt      "
      ]
     },
     "execution_count": 7,
     "metadata": {},
     "output_type": "execute_result"
    }
   ],
   "source": [
    "diff_positional(L(t, q, q_point), 2)(t,w(t),w(t).diff(t)) # :/"
   ]
  },
  {
   "cell_type": "code",
   "execution_count": 8,
   "metadata": {
    "collapsed": true,
    "deletable": true,
    "editable": true
   },
   "outputs": [],
   "source": [
    "def diff_positional(f, i):\n",
    "    return Function(r'\\partial_{{{}}}{}'.format(i, str(f))) # the \\partial is just a symbol, it hasn't meaning"
   ]
  },
  {
   "cell_type": "code",
   "execution_count": 9,
   "metadata": {
    "collapsed": false,
    "deletable": true,
    "editable": true
   },
   "outputs": [
    {
     "data": {
      "image/png": "[encoded data removed]",
      "text/latex": [
       "$$- \\partial_{1}L{\\left (t,w{\\left (t \\right )},\\frac{d}{d t} w{\\left (t \\right )} \\right )} + \\frac{d}{d t} \\partial_{2}L{\\left (t,w{\\left (t \\right )},\\frac{d}{d t} w{\\left (t \\right )} \\right )}$$"
      ],
      "text/plain": [
       "               ⎛         d       ⎞   d ⎛             ⎛         d       ⎞⎞\n",
       "- \\partial_{1}L⎜t, w(t), ──(w(t))⎟ + ──⎜\\partial_{2}L⎜t, w(t), ──(w(t))⎟⎟\n",
       "               ⎝         dt      ⎠   dt⎝             ⎝         dt      ⎠⎠"
      ]
     },
     "execution_count": 9,
     "metadata": {},
     "output_type": "execute_result"
    }
   ],
   "source": [
    "(Derivative(diff_positional(L, 2)(t,w(t), w(t).diff(t)), t) - \n",
    " diff_positional(L, 1)(t,w(t), w(t).diff(t))) # :("
   ]
  },
  {
   "cell_type": "code",
   "execution_count": 10,
   "metadata": {
    "collapsed": false,
    "deletable": true,
    "editable": true
   },
   "outputs": [
    {
     "data": {
      "image/png": "[encoded data removed]",
      "text/latex": [
       "$$\\frac{d}{d t} \\left. \\frac{\\partial}{\\partial \\xi_{3}} L{\\left (t,w{\\left (t \\right )},\\xi_{3} \\right )} \\right|_{\\substack{ \\xi_{3}=\\frac{d}{d t} w{\\left (t \\right )} }} - \\left. \\frac{\\partial}{\\partial \\xi_{2}} L{\\left (t,\\xi_{2},\\frac{d}{d t} w{\\left (t \\right )} \\right )} \\right|_{\\substack{ \\xi_{2}=w{\\left (t \\right )} }} = 0$$"
      ],
      "text/plain": [
       "d ⎛⎛ ∂                 ⎞│           ⎞   ⎛ ∂ ⎛ ⎛       d       ⎞⎞⎞│           \n",
       "──⎜⎜───(L(t, w(t), ξ₃))⎟│   d       ⎟ - ⎜───⎜L⎜t, ξ₂, ──(w(t))⎟⎟⎟│        = 0\n",
       "dt⎜⎝∂ξ₃                ⎠│ξ₃=──(w(t))⎟   ⎝∂ξ₂⎝ ⎝       dt      ⎠⎠⎠│ξ₂=w(t)    \n",
       "  ⎝                         dt      ⎠                                        "
      ]
     },
     "execution_count": 10,
     "metadata": {},
     "output_type": "execute_result"
    }
   ],
   "source": [
    "Lagrangian_eq = Eq(Derivative(L(t,w(t), w(t).diff(t)).fdiff(argindex=3),t, evaluate=False) - \n",
    "                   L(t,w(t), w(t).diff(t)).fdiff(argindex=2),\n",
    "                   0, evaluate=False)\n",
    "Lagrangian_eq # :) , although it doesn't use \"positional derivative\" operator explicitly"
   ]
  },
  {
   "cell_type": "code",
   "execution_count": 11,
   "metadata": {
    "collapsed": false,
    "deletable": true,
    "editable": true
   },
   "outputs": [
    {
     "data": {
      "image/png": "[encoded data removed]",
      "text/latex": [
       "$$\\frac{\\partial}{\\partial q} f{\\left (t,q,\\dot{q} \\right )} = \\left. \\frac{\\partial}{\\partial Dummy_{143}} f{\\left (t,Dummy_{143},\\dot{q} \\right )} \\right|_{\\substack{ Dummy_{143}=q }}$$"
      ],
      "text/plain": [
       "∂                      ⎛    ∂                             ⎞│          \n",
       "──(f(t, q, \\dot{q})) = ⎜─────────(f(t, Dummy₁₄₃, \\dot{q}))⎟│          \n",
       "∂q                     ⎝∂Dummy₁₄₃                         ⎠│Dummy₁₄₃=q"
      ]
     },
     "execution_count": 11,
     "metadata": {},
     "output_type": "execute_result"
    }
   ],
   "source": [
    "def Derivative_eq(f, argindex=1):\n",
    "    d = Dummy()\n",
    "    args = [d if i+1 == argindex else a for i,a in enumerate(f.args)]\n",
    "    lhs = f.fdiff(argindex)\n",
    "    rhs = Subs(f.func(*args).diff(d), d, f.args[argindex-1])\n",
    "    return Eq(lhs, rhs, evaluate=False)\n",
    "\n",
    "Derivative_eq(f(t,q,q_point),2) # applicative Derivative operator"
   ]
  },
  {
   "cell_type": "code",
   "execution_count": 12,
   "metadata": {
    "collapsed": true,
    "deletable": true,
    "editable": true
   },
   "outputs": [],
   "source": [
    "def Gamma(w):\n",
    "    return Lambda([t], (t, w(t), w(t).diff(t))) # state-space function"
   ]
  },
  {
   "cell_type": "code",
   "execution_count": 13,
   "metadata": {
    "collapsed": false,
    "deletable": true,
    "editable": true
   },
   "outputs": [
    {
     "data": {
      "image/png": "[encoded data removed]",
      "text/latex": [
       "$$\\left ( \\left( t \\mapsto \\left ( t, \\quad w{\\left (t \\right )}, \\quad \\frac{d}{d t} w{\\left (t \\right )}\\right ) \\right), \\quad \\left ( t, \\quad w{\\left (t \\right )}, \\quad \\frac{d}{d t} w{\\left (t \\right )}\\right )\\right )$$"
      ],
      "text/plain": [
       "⎛    ⎛         d       ⎞  ⎛         d       ⎞⎞\n",
       "⎜t ↦ ⎜t, w(t), ──(w(t))⎟, ⎜t, w(t), ──(w(t))⎟⎟\n",
       "⎝    ⎝         dt      ⎠  ⎝         dt      ⎠⎠"
      ]
     },
     "execution_count": 13,
     "metadata": {},
     "output_type": "execute_result"
    }
   ],
   "source": [
    "Gamma(w), Gamma(w)(t)"
   ]
  },
  {
   "cell_type": "code",
   "execution_count": 14,
   "metadata": {
    "collapsed": false,
    "deletable": true,
    "editable": true
   },
   "outputs": [
    {
     "data": {
      "image/png": "[encoded data removed]",
      "text/latex": [
       "$$\\frac{d}{d t} \\left. \\frac{\\partial}{\\partial \\xi_{3}} L{\\left (t,w{\\left (t \\right )},\\xi_{3} \\right )} \\right|_{\\substack{ \\xi_{3}=\\frac{d}{d t} w{\\left (t \\right )} }} - \\left. \\frac{\\partial}{\\partial \\xi_{2}} L{\\left (t,\\xi_{2},\\frac{d}{d t} w{\\left (t \\right )} \\right )} \\right|_{\\substack{ \\xi_{2}=w{\\left (t \\right )} }} = 0$$"
      ],
      "text/plain": [
       "d ⎛⎛ ∂                 ⎞│           ⎞   ⎛ ∂ ⎛ ⎛       d       ⎞⎞⎞│           \n",
       "──⎜⎜───(L(t, w(t), ξ₃))⎟│   d       ⎟ - ⎜───⎜L⎜t, ξ₂, ──(w(t))⎟⎟⎟│        = 0\n",
       "dt⎜⎝∂ξ₃                ⎠│ξ₃=──(w(t))⎟   ⎝∂ξ₂⎝ ⎝       dt      ⎠⎠⎠│ξ₂=w(t)    \n",
       "  ⎝                         dt      ⎠                                        "
      ]
     },
     "execution_count": 14,
     "metadata": {},
     "output_type": "execute_result"
    }
   ],
   "source": [
    "Lagrangian_eq = Eq(Derivative(L(*Gamma(w)(t)).fdiff(argindex=3),t, evaluate=False) - \n",
    "                   L(t,w(t), w(t).diff(t)).fdiff(argindex=2),\n",
    "                   0, evaluate=False)\n",
    "Lagrangian_eq"
   ]
  },
  {
   "cell_type": "code",
   "execution_count": 15,
   "metadata": {
    "collapsed": false,
    "deletable": true,
    "editable": true
   },
   "outputs": [],
   "source": [
    "class FunctionsComposition(Function):\n",
    "\n",
    "    nargs = 2\n",
    "    \n",
    "    def _latex(self, sexp):\n",
    "        return r' \\circ '.join(map(latex, \n",
    "                                   map(lambda a: a.func if isinstance(a, Function) else a, \n",
    "                                       self.args)))\n",
    "    \n",
    "    def _eval_subs(self, old, new):\n",
    "        f, g = self.args\n",
    "        if old == f:\n",
    "            return new.subs({f.args[0]:g}, simultaneous=True)\n",
    "            \n",
    "    "
   ]
  },
  {
   "cell_type": "code",
   "execution_count": 22,
   "metadata": {
    "collapsed": false,
    "deletable": true,
    "editable": true
   },
   "outputs": [
    {
     "data": {
      "image/png": "[encoded data removed]",
      "text/latex": [
       "$$\\mathcal{F} \\circ w$$"
      ],
      "text/plain": [
       "FunctionsComposition(\\mathcal{F}(t), w(t))"
      ]
     },
     "execution_count": 22,
     "metadata": {},
     "output_type": "execute_result"
    }
   ],
   "source": [
    "F_o_w = FunctionsComposition(Function(r'\\mathcal{F}')(t), w(t))\n",
    "F_o_w"
   ]
  },
  {
   "cell_type": "code",
   "execution_count": 23,
   "metadata": {
    "collapsed": false,
    "deletable": true,
    "editable": true
   },
   "outputs": [
    {
     "data": {
      "image/png": "[encoded data removed]",
      "text/latex": [
       "$$\\frac{1}{- w{\\left (t \\right )} + 1}$$"
      ],
      "text/plain": [
       "    1    \n",
       "─────────\n",
       "-w(t) + 1"
      ]
     },
     "execution_count": 23,
     "metadata": {},
     "output_type": "execute_result"
    }
   ],
   "source": [
    "F_o_w.subs({Function(r'\\mathcal{F}')(t):1/(1-t)})"
   ]
  },
  {
   "cell_type": "code",
   "execution_count": 24,
   "metadata": {
    "collapsed": false,
    "deletable": true,
    "editable": true
   },
   "outputs": [
    {
     "data": {
      "image/png": "[encoded data removed]",
      "text/latex": [
       "$$\\mathcal{F} \\circ 2 t$$"
      ],
      "text/plain": [
       "FunctionsComposition(\\mathcal{F}(t), 2⋅t)"
      ]
     },
     "execution_count": 24,
     "metadata": {},
     "output_type": "execute_result"
    }
   ],
   "source": [
    "F_o_w.subs({w(t):2*t})"
   ]
  },
  {
   "cell_type": "code",
   "execution_count": 25,
   "metadata": {
    "collapsed": false,
    "deletable": true,
    "editable": true
   },
   "outputs": [
    {
     "data": {
      "image/png": "[encoded data removed]",
      "text/latex": [
       "$$4 t + 1$$"
      ],
      "text/plain": [
       "4⋅t + 1"
      ]
     },
     "execution_count": 25,
     "metadata": {},
     "output_type": "execute_result"
    }
   ],
   "source": [
    "_.subs({Function(r'\\mathcal{F}')(t):2*t+1})"
   ]
  },
  {
   "cell_type": "code",
   "execution_count": 26,
   "metadata": {
    "collapsed": false,
    "deletable": true,
    "editable": true
   },
   "outputs": [
    {
     "data": {
      "image/png": "[encoded data removed]",
      "text/latex": [
       "$$\\left. \\frac{\\partial}{\\partial \\xi_{3}} L{\\left (t,w{\\left (t \\right )},\\xi_{3} \\right )} \\right|_{\\substack{ \\xi_{3}=\\frac{d}{d t} w{\\left (t \\right )} }} \\circ \\left( t \\mapsto \\left ( t, \\quad w{\\left (t \\right )}, \\quad \\frac{d}{d t} w{\\left (t \\right )}\\right ) \\right)$$"
      ],
      "text/plain": [
       "                    ⎛⎛ ∂                 ⎞│                 ⎛         d       \n",
       "FunctionsComposition⎜⎜───(L(t, w(t), ξ₃))⎟│   d       , t ↦ ⎜t, w(t), ──(w(t))\n",
       "                    ⎜⎝∂ξ₃                ⎠│ξ₃=──(w(t))      ⎝         dt      \n",
       "                    ⎝                         dt                              \n",
       "\n",
       "⎞⎞\n",
       "⎟⎟\n",
       "⎠⎟\n",
       " ⎠"
      ]
     },
     "execution_count": 26,
     "metadata": {},
     "output_type": "execute_result"
    }
   ],
   "source": [
    "FunctionsComposition(L(t, w(t), w(t).diff(t)).fdiff(argindex=3),Gamma(w))"
   ]
  },
  {
   "cell_type": "code",
   "execution_count": 40,
   "metadata": {
    "collapsed": false,
    "deletable": true,
    "editable": true
   },
   "outputs": [
    {
     "data": {
      "image/png": "[encoded data removed]",
      "text/latex": [
       "$$\\frac{\\partial}{\\partial t} \\left. \\frac{\\partial}{\\partial \\xi_{3}}\\left(\\frac{\\xi_{3}^{2} m}{2} - \\frac{k}{2} w^{2}{\\left (t \\right )}\\right) \\right|_{\\substack{ \\xi_{3}=\\frac{d}{d t} w{\\left (t \\right )} }} - \\left. \\frac{\\partial}{\\partial \\xi_{2}}\\left(- \\frac{\\xi_{2}^{2} k}{2} + \\frac{m}{2} \\left(\\frac{d}{d t} w{\\left (t \\right )}\\right)^{2}\\right) \\right|_{\\substack{ \\xi_{2}=w{\\left (t \\right )} }} = 0$$"
      ],
      "text/plain": [
       "                                         ⎛   ⎛                      2⎞⎞│      \n",
       "                                         ⎜   ⎜            ⎛d       ⎞ ⎟⎟│      \n",
       "  ⎛⎛   ⎛  2        2   ⎞⎞│           ⎞   ⎜   ⎜    2     m⋅⎜──(w(t))⎟ ⎟⎟│      \n",
       "∂ ⎜⎜ ∂ ⎜ξ₃ ⋅m   k⋅w (t)⎟⎟│           ⎟   ⎜ ∂ ⎜  ξ₂ ⋅k     ⎝dt      ⎠ ⎟⎟│      \n",
       "──⎜⎜───⎜───── - ───────⎟⎟│   d       ⎟ - ⎜───⎜- ───── + ─────────────⎟⎟│      \n",
       "∂t⎜⎝∂ξ₃⎝  2        2   ⎠⎠│ξ₃=──(w(t))⎟   ⎝∂ξ₂⎝    2           2      ⎠⎠│ξ₂=w(t\n",
       "  ⎝                          dt      ⎠                                        \n",
       "\n",
       "     \n",
       "     \n",
       "     \n",
       "     \n",
       "  = 0\n",
       ")    \n",
       "     "
      ]
     },
     "execution_count": 40,
     "metadata": {},
     "output_type": "execute_result"
    }
   ],
   "source": [
    "m,v,k,q = symbols('m v k q')\n",
    "Lagrangian_eq.subs({L:Lambda([t,q,v], (m*v**2)/2-(k*q**2)/2)}) # plug in the Lagrangian function"
   ]
  },
  {
   "cell_type": "code",
   "execution_count": 41,
   "metadata": {
    "collapsed": false,
    "deletable": true,
    "editable": true
   },
   "outputs": [
    {
     "data": {
      "image/png": "[encoded data removed]",
      "text/latex": [
       "$$k w{\\left (t \\right )} + m \\frac{d^{2}}{d t^{2}}  w{\\left (t \\right )} = 0$$"
      ],
      "text/plain": [
       "             2          \n",
       "            d           \n",
       "k⋅w(t) + m⋅───(w(t)) = 0\n",
       "             2          \n",
       "           dt           "
      ]
     },
     "execution_count": 41,
     "metadata": {},
     "output_type": "execute_result"
    }
   ],
   "source": [
    "eq = _.doit() # do derivatives\n",
    "eq"
   ]
  },
  {
   "cell_type": "code",
   "execution_count": 42,
   "metadata": {
    "collapsed": false,
    "deletable": true,
    "editable": true
   },
   "outputs": [
    {
     "data": {
      "image/png": "[encoded data removed]",
      "text/latex": [
       "$$a k \\cos{\\left (\\omega t + \\phi \\right )} + m \\frac{\\partial^{2}}{\\partial t^{2}} \\left(a \\cos{\\left (\\omega t + \\phi \\right )}\\right) = 0$$"
      ],
      "text/plain": [
       "                               2                            \n",
       "                              ∂                             \n",
       "a⋅k⋅cos(\\omega⋅t + \\phi) + m⋅───(a⋅cos(\\omega⋅t + \\phi)) = 0\n",
       "                               2                            \n",
       "                             ∂t                             "
      ]
     },
     "execution_count": 42,
     "metadata": {},
     "output_type": "execute_result"
    }
   ],
   "source": [
    "a, omega, phi = symbols(r'a \\omega \\phi')\n",
    "_.subs({w(t):a*cos(omega*t+phi)})"
   ]
  },
  {
   "cell_type": "code",
   "execution_count": 43,
   "metadata": {
    "collapsed": false,
    "deletable": true,
    "editable": true
   },
   "outputs": [
    {
     "data": {
      "image/png": "[encoded data removed]",
      "text/latex": [
       "$$a \\left(- \\omega^{2} m + k\\right) \\cos{\\left (\\omega t + \\phi \\right )} = 0$$"
      ],
      "text/plain": [
       "  ⎛        2      ⎞                         \n",
       "a⋅⎝- \\omega ⋅m + k⎠⋅cos(\\omega⋅t + \\phi) = 0"
      ]
     },
     "execution_count": 43,
     "metadata": {},
     "output_type": "execute_result"
    }
   ],
   "source": [
    "_.doit().factor()"
   ]
  },
  {
   "cell_type": "code",
   "execution_count": 44,
   "metadata": {
    "collapsed": false,
    "deletable": true,
    "editable": true
   },
   "outputs": [
    {
     "data": {
      "image/png": "[encoded data removed]",
      "text/latex": [
       "$$\\left [ - \\sqrt{\\frac{k}{m}}, \\quad \\sqrt{\\frac{k}{m}}, \\quad \\frac{1}{t} \\left(- \\phi + \\frac{\\pi}{2}\\right), \\quad \\frac{1}{t} \\left(- \\phi + \\frac{3 \\pi}{2}\\right)\\right ]$$"
      ],
      "text/plain": [
       "⎡                           π          3⋅π⎤\n",
       "⎢     ___      ___  -\\phi + ─  -\\phi + ───⎥\n",
       "⎢    ╱ k      ╱ k           2           2 ⎥\n",
       "⎢-  ╱  ─ ,   ╱  ─ , ─────────, ───────────⎥\n",
       "⎣ ╲╱   m   ╲╱   m       t           t     ⎦"
      ]
     },
     "execution_count": 44,
     "metadata": {},
     "output_type": "execute_result"
    }
   ],
   "source": [
    "solve(_, omega)"
   ]
  },
  {
   "cell_type": "code",
   "execution_count": 45,
   "metadata": {
    "collapsed": false,
    "deletable": true,
    "editable": true
   },
   "outputs": [
    {
     "data": {
      "image/png": "[encoded data removed]",
      "text/latex": [
       "$$w{\\left (t \\right )} = C_{1} e^{- t \\sqrt{- \\frac{k}{m}}} + C_{2} e^{t \\sqrt{- \\frac{k}{m}}}$$"
      ],
      "text/plain": [
       "                  _____             _____\n",
       "                 ╱ -k              ╱ -k  \n",
       "           -t⋅  ╱  ───        t⋅  ╱  ─── \n",
       "              ╲╱    m           ╲╱    m  \n",
       "w(t) = C₁⋅ℯ             + C₂⋅ℯ           "
      ]
     },
     "execution_count": 45,
     "metadata": {},
     "output_type": "execute_result"
    }
   ],
   "source": [
    "dsolve(eq, w(t)) # solve with respect to path function w(t)"
   ]
  },
  {
   "cell_type": "markdown",
   "metadata": {},
   "source": [
    "---\n",
    "<a rel=\"license\" href=\"http://creativecommons.org/licenses/by-nc-sa/4.0/\"><img alt=\"Creative Commons License\" style=\"border-width:0\" src=\"https://i.creativecommons.org/l/by-nc-sa/4.0/88x31.png\" /></a><br />This work is licensed under a <a rel=\"license\" href=\"http://creativecommons.org/licenses/by-nc-sa/4.0/\">Creative Commons Attribution-NonCommercial-ShareAlike 4.0 International License</a>."
   ]
  }
 ],
 "metadata": {
  "kernelspec": {
   "display_name": "Python 3",
   "language": "python",
   "name": "python3"
  },
  "language_info": {
   "codemirror_mode": {
    "name": "ipython",
    "version": 3
   },
   "file_extension": ".py",
   "mimetype": "text/x-python",
   "name": "python",
   "nbconvert_exporter": "python",
   "pygments_lexer": "ipython3",
   "version": "3.6.0"
  }
 },
 "nbformat": 4,
 "nbformat_minor": 2
}
