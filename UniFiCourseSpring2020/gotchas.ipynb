{
 "cells": [
  {
   "cell_type": "markdown",
   "metadata": {
    "slideshow": {
     "slide_type": "slide"
    }
   },
   "source": [
    "<p>\n",
    "<img src=\"http://www.cerm.unifi.it/chianti/images/logo%20unifi_positivo.jpg\" \n",
    "        alt=\"UniFI logo\" style=\"float: left; width: 20%; height: 20%;\">\n",
    "<div align=\"right\">\n",
    "    \n",
    "<small>\n",
    "Massimo Nocentini, PhD.\n",
    "<br><br>\n",
    "May 27, 2020: init\n",
    "</small>\n",
    "</div>\n",
    "</p>\n",
    "<br>\n",
    "<br>\n",
    "<div align=\"center\">\n",
    "<b>Abstract</b><br>\n",
    "Some tips, tricks and gotchas, in particular.\n",
    "</div>"
   ]
  },
  {
   "cell_type": "code",
   "execution_count": 3,
   "metadata": {},
   "outputs": [],
   "source": [
    "__AUTHORS__ = {'am': (\"Andrea Marino\", \n",
    "                      \"andrea.marino@unifi.it\",),\n",
    "               'mn': (\"Massimo Nocentini\", \n",
    "                      \"massimo.nocentini@unifi.it\", \n",
    "                      \"https://github.com/massimo-nocentini/\",)}\n",
    "\n",
    "__KEYWORDS__ = ['Python', 'Jupyter', 'gotchas', 'keynote',]"
   ]
  },
  {
   "cell_type": "markdown",
   "metadata": {},
   "source": [
    "<center><img src=\"https://upload.wikimedia.org/wikipedia/commons/c/c3/Python-logo-notext.svg\"></center>"
   ]
  },
  {
   "cell_type": "markdown",
   "metadata": {
    "slideshow": {
     "slide_type": "slide"
    }
   },
   "source": [
    "# Tips, tricks and gotchas\n",
    "\n",
    "This lecture addresses some gotchas that could arise in daily programming; moreover, at the beginning we will introduce some helpful objects that could make coding easier.\n",
    "\n",
    "First of all, some imports as usual:"
   ]
  },
  {
   "cell_type": "code",
   "execution_count": 4,
   "metadata": {},
   "outputs": [],
   "source": [
    "from collections import defaultdict, Counter\n",
    "\n",
    "import matplotlib.pyplot as plt\n",
    "\n",
    "%matplotlib inline\n",
    "plt.rcParams['figure.figsize'] = (8, 8)"
   ]
  },
  {
   "cell_type": "markdown",
   "metadata": {
    "slideshow": {
     "slide_type": "subslide"
    }
   },
   "source": [
    "## A grouping pattern, avoiding *quadratic* time"
   ]
  },
  {
   "cell_type": "markdown",
   "metadata": {},
   "source": [
    "Assume to have two lists that have to be related in some way, namely using a predicate $P$. In the following example we want to build a list of all pairs (boy,girl) such that their names starts with the same letter. Here the input:"
   ]
  },
  {
   "cell_type": "code",
   "execution_count": 5,
   "metadata": {},
   "outputs": [],
   "source": [
    "girls = ['alice', 'allie', 'bernice', 'brenda', 'clarice', 'cilly']\n",
    "boys = ['chris', 'christopher', 'arald', 'arnold', 'bob']"
   ]
  },
  {
   "cell_type": "markdown",
   "metadata": {
    "slideshow": {
     "slide_type": "subslide"
    }
   },
   "source": [
    "the bad way, quadratic time:"
   ]
  },
  {
   "cell_type": "code",
   "execution_count": 6,
   "metadata": {},
   "outputs": [
    {
     "data": {
      "text/plain": [
       "[('chris', 'clarice'),\n",
       " ('chris', 'cilly'),\n",
       " ('christopher', 'clarice'),\n",
       " ('christopher', 'cilly'),\n",
       " ('arald', 'alice'),\n",
       " ('arald', 'allie'),\n",
       " ('arnold', 'alice'),\n",
       " ('arnold', 'allie'),\n",
       " ('bob', 'bernice'),\n",
       " ('bob', 'brenda')]"
      ]
     },
     "execution_count": 6,
     "metadata": {},
     "output_type": "execute_result"
    }
   ],
   "source": [
    "[(b, g) for b in boys for g in girls if b[0] == g[0]]"
   ]
  },
  {
   "cell_type": "markdown",
   "metadata": {
    "slideshow": {
     "slide_type": "subslide"
    }
   },
   "source": [
    "there is a better approach avoiding quadratic time, toward [`defaultdict`][dd]:\n",
    "\n",
    "[dd]:https://docs.python.org/3/library/collections.html#defaultdict-objects"
   ]
  },
  {
   "cell_type": "code",
   "execution_count": 7,
   "metadata": {},
   "outputs": [
    {
     "data": {
      "text/plain": [
       "[('chris', 'clarice'),\n",
       " ('chris', 'cilly'),\n",
       " ('christopher', 'clarice'),\n",
       " ('christopher', 'cilly'),\n",
       " ('arald', 'alice'),\n",
       " ('arald', 'allie'),\n",
       " ('arnold', 'alice'),\n",
       " ('arnold', 'allie'),\n",
       " ('bob', 'bernice'),\n",
       " ('bob', 'brenda')]"
      ]
     },
     "execution_count": 7,
     "metadata": {},
     "output_type": "execute_result"
    }
   ],
   "source": [
    "letterGirls = {}\n",
    "for girl in girls:\n",
    "    letterGirls.setdefault(girl[0], []).append(girl)\n",
    "\n",
    "[(b, g) for b in boys for g in letterGirls[b[0]]]"
   ]
  },
  {
   "cell_type": "markdown",
   "metadata": {
    "slideshow": {
     "slide_type": "subslide"
    }
   },
   "source": [
    "However there is an even better solution, as pointed out in the [example][e] subsection of the previous link: use `defaultdict` instead of repeating call `setdefault` method for each new key. From the official documentation:\n",
    "\n",
    "[e]:https://docs.python.org/3/library/collections.html#defaultdict-examples"
   ]
  },
  {
   "cell_type": "code",
   "execution_count": 8,
   "metadata": {},
   "outputs": [
    {
     "data": {
      "text/plain": [
       "[('blue', [2, 4]), ('red', [1]), ('yellow', [1, 3])]"
      ]
     },
     "execution_count": 8,
     "metadata": {},
     "output_type": "execute_result"
    }
   ],
   "source": [
    ">>> s = [('yellow', 1), ('blue', 2), ('yellow', 3), ('blue', 4), ('red', 1)]\n",
    ">>> d = defaultdict(list)\n",
    ">>> for k, v in s:\n",
    "...     d[k].append(v)\n",
    "...\n",
    ">>> list(d.items())\n",
    "[('blue', [2, 4]), ('red', [1]), ('yellow', [1, 3])]"
   ]
  },
  {
   "cell_type": "markdown",
   "metadata": {
    "slideshow": {
     "slide_type": "subslide"
    }
   },
   "source": [
    "## The *Bunch* pattern"
   ]
  },
  {
   "cell_type": "markdown",
   "metadata": {},
   "source": [
    "A very good book on algorithms implemented in Python is the one by Magnus Hetland, https://www.apress.com/gp/book/9781484200568, with the companion Github repository https://github.com/apress/python-algorithms-14.\n",
    "\n",
    "Hetland, pag. 34, propose the following pattern to build a container of properties in order to avoid vanilla dict (adjusting from item 4.18 of Alex Martelli's [*Python Cookbook*][cb]):\n",
    "\n",
    "[cb]:http://shop.oreilly.com/product/9780596007973.do"
   ]
  },
  {
   "cell_type": "code",
   "execution_count": 9,
   "metadata": {
    "slideshow": {
     "slide_type": "subslide"
    }
   },
   "outputs": [],
   "source": [
    "class Bunch(dict):\n",
    "    def __init__(self, *args, **kwds):\n",
    "        super(Bunch, self).__init__(*args, **kwds)\n",
    "        self.__dict__ = self"
   ]
  },
  {
   "cell_type": "code",
   "execution_count": 10,
   "metadata": {
    "slideshow": {
     "slide_type": "subslide"
    }
   },
   "outputs": [
    {
     "data": {
      "text/plain": [
       "{'left': 'a', 'right': 'b'}"
      ]
     },
     "execution_count": 10,
     "metadata": {},
     "output_type": "execute_result"
    }
   ],
   "source": [
    ">>> T = Bunch\n",
    ">>> t = T(left=T(left=\"a\", right=\"b\"), right=T(left=\"c\"))\n",
    ">>> t.left"
   ]
  },
  {
   "cell_type": "code",
   "execution_count": 11,
   "metadata": {
    "slideshow": {
     "slide_type": "subslide"
    }
   },
   "outputs": [
    {
     "data": {
      "text/plain": [
       "'b'"
      ]
     },
     "execution_count": 11,
     "metadata": {},
     "output_type": "execute_result"
    }
   ],
   "source": [
    ">>> t.left.right"
   ]
  },
  {
   "cell_type": "code",
   "execution_count": 12,
   "metadata": {},
   "outputs": [
    {
     "data": {
      "text/plain": [
       "'b'"
      ]
     },
     "execution_count": 12,
     "metadata": {},
     "output_type": "execute_result"
    }
   ],
   "source": [
    ">>> t['left']['right']"
   ]
  },
  {
   "cell_type": "code",
   "execution_count": 13,
   "metadata": {},
   "outputs": [
    {
     "data": {
      "text/plain": [
       "True"
      ]
     },
     "execution_count": 13,
     "metadata": {},
     "output_type": "execute_result"
    }
   ],
   "source": [
    ">>> \"left\" in t.right"
   ]
  },
  {
   "cell_type": "code",
   "execution_count": 14,
   "metadata": {},
   "outputs": [
    {
     "data": {
      "text/plain": [
       "False"
      ]
     },
     "execution_count": 14,
     "metadata": {},
     "output_type": "execute_result"
    }
   ],
   "source": [
    "\"right\" in t.right"
   ]
  },
  {
   "cell_type": "markdown",
   "metadata": {
    "slideshow": {
     "slide_type": "subslide"
    }
   },
   "source": [
    "However, inheriting from `dict` is discouraged by Alex:\n",
    "\n",
    ">A further tempting but not fully sound alternative is to have the Bunch class inherit\n",
    "from `dict`, and set attribute access special methods equal to the item access special\n",
    "methods, as follows:\n",
    "\n",
    "    class DictBunch(dict):\n",
    "        __getattr__ = dict.__getitem__\n",
    "        __setattr__ = dict.__setitem__\n",
    "        __delattr__ = dict.__delitem__\n",
    "\n",
    ">One problem with this approach is that, with this definition, an instance x of\n",
    "`DictBunch` has many attributes it doesn't really have, because it inherits all the\n",
    "attributes (methods, actually, but there's no significant difference in this context) of\n",
    "`dict`. So, you can’t meaningfully check `hasattr(x, someattr)` , as you could with the\n",
    "classes `Bunch` and `EvenSimplerBunch` (which sets the dictionary directly, without using `update`) \n",
    "previously shown, unless you can somehow rule\n",
    "out the value of someattr being any of several common words such as `keys` , `pop` ,\n",
    "and `get`. Python’s distinction between attributes and items is really a wellspring of clarity and\n",
    "simplicity. Unfortunately, many newcomers to Python wrongly believe that it would\n",
    "be better to confuse items with attributes, generally because of previous experience\n",
    "with JavaScript and other such languages, in which attributes and items are regularly\n",
    "confused. But educating newcomers is a much better idea than promoting item/\n",
    "attribute confusion."
   ]
  },
  {
   "cell_type": "markdown",
   "metadata": {
    "slideshow": {
     "slide_type": "subslide"
    }
   },
   "source": [
    "\n",
    "Alex original definition reads as follows:"
   ]
  },
  {
   "cell_type": "code",
   "execution_count": 15,
   "metadata": {},
   "outputs": [],
   "source": [
    "class Bunch(object):\n",
    "    def __init__(self, **kwds):\n",
    "        self.__dict__.update(kwds)"
   ]
  },
  {
   "cell_type": "markdown",
   "metadata": {
    "slideshow": {
     "slide_type": "subslide"
    }
   },
   "source": [
    "It is interesting to observe that this idiom has been merged within the *standard library*, starting from Python **3.3**, as with the name of [`SimpleNamespace`][sn]:\n",
    "\n",
    "[sn]:https://docs.python.org/3/library/types.html#types.SimpleNamespace"
   ]
  },
  {
   "cell_type": "code",
   "execution_count": 16,
   "metadata": {},
   "outputs": [
    {
     "data": {
      "text/plain": [
       "namespace(datum=64, squared=4096, coord=32)"
      ]
     },
     "execution_count": 16,
     "metadata": {},
     "output_type": "execute_result"
    }
   ],
   "source": [
    "from types import SimpleNamespace\n",
    "\n",
    "x, y = 32, 64\n",
    "point = SimpleNamespace(datum=y, squared=y*y, coord=x)\n",
    "point"
   ]
  },
  {
   "cell_type": "code",
   "execution_count": 17,
   "metadata": {
    "slideshow": {
     "slide_type": "subslide"
    }
   },
   "outputs": [
    {
     "data": {
      "text/plain": [
       "(64, 4096, 32)"
      ]
     },
     "execution_count": 17,
     "metadata": {},
     "output_type": "execute_result"
    }
   ],
   "source": [
    "point.datum, point.squared, point.coord"
   ]
  },
  {
   "cell_type": "code",
   "execution_count": 18,
   "metadata": {},
   "outputs": [
    {
     "ename": "TypeError",
     "evalue": "'types.SimpleNamespace' object is not iterable",
     "output_type": "error",
     "traceback": [
      "\u001b[0;31m---------------------------------------------------------------------------\u001b[0m",
      "\u001b[0;31mTypeError\u001b[0m                                 Traceback (most recent call last)",
      "\u001b[0;32m<ipython-input-18-70c474fd2112>\u001b[0m in \u001b[0;36m<module>\u001b[0;34m\u001b[0m\n\u001b[0;32m----> 1\u001b[0;31m \u001b[0;34m[\u001b[0m\u001b[0mi\u001b[0m \u001b[0;32mfor\u001b[0m \u001b[0mi\u001b[0m \u001b[0;32min\u001b[0m \u001b[0mpoint\u001b[0m\u001b[0;34m]\u001b[0m\u001b[0;34m\u001b[0m\u001b[0;34m\u001b[0m\u001b[0m\n\u001b[0m",
      "\u001b[0;31mTypeError\u001b[0m: 'types.SimpleNamespace' object is not iterable"
     ]
    }
   ],
   "source": [
    "[i for i in point]"
   ]
  },
  {
   "cell_type": "markdown",
   "metadata": {},
   "source": [
    "If you need `point` to be iterable use the structured object [`namedtuple`][nt] instead.\n",
    "\n",
    "[nt]:https://docs.python.org/3/library/collections.html#collections.namedtuple"
   ]
  },
  {
   "cell_type": "markdown",
   "metadata": {
    "slideshow": {
     "slide_type": "slide"
    }
   },
   "source": [
    "## Python's `list.append` isn't Lisp's `cons`"
   ]
  },
  {
   "cell_type": "markdown",
   "metadata": {},
   "source": [
    "Python `list` objects behave like `stack` objects, such that it is *cheap* to `append` and `pop` at the *top*, which is the *right* end. On the other hand, Lisp `pair` objects allows us to *easily* `cons` on the *beginning*, the very *opposite* direction."
   ]
  },
  {
   "cell_type": "code",
   "execution_count": 21,
   "metadata": {
    "slideshow": {
     "slide_type": "subslide"
    }
   },
   "outputs": [],
   "source": [
    "def fast_countdown(count):\n",
    "    nums = []\n",
    "    for i in range(count):\n",
    "        nums.append(i)\n",
    "    nums.reverse()\n",
    "    return nums\n",
    "\n",
    "def slow_countdown(count):\n",
    "    nums = []\n",
    "    for i in range(count):\n",
    "        nums.insert(0, i)\n",
    "    return nums\n",
    "\n",
    "def printer(lst, chunk=10):\n",
    "    print(\"{}...{}\".format(\" \".join(map(str, lst[:chunk])),\n",
    "                           \" \".join(map(str, lst[-chunk:]))))"
   ]
  },
  {
   "cell_type": "code",
   "execution_count": 27,
   "metadata": {
    "slideshow": {
     "slide_type": "subslide"
    }
   },
   "outputs": [
    {
     "name": "stdout",
     "output_type": "stream",
     "text": [
      "5.13 ms ± 118 µs per loop (mean ± std. dev. of 7 runs, 100 loops each)\n"
     ]
    }
   ],
   "source": [
    "%timeit nums = fast_countdown(10**5)"
   ]
  },
  {
   "cell_type": "code",
   "execution_count": 28,
   "metadata": {},
   "outputs": [
    {
     "name": "stdout",
     "output_type": "stream",
     "text": [
      "1.61 s ± 13.2 ms per loop (mean ± std. dev. of 7 runs, 1 loop each)\n"
     ]
    }
   ],
   "source": [
    "%timeit nums = slow_countdown(10**5)"
   ]
  },
  {
   "cell_type": "markdown",
   "metadata": {
    "slideshow": {
     "slide_type": "subslide"
    }
   },
   "source": [
    "Citing Hetland, pag 11:\n",
    "\n",
    "> Python lists aren’t really lists in the traditional computer science sense of the word, and that explains the puzzle of why append is so much more efficient than insert . A classical list - a so-called linked list - is implemented as a series of nodes, each (except for the last) keeping a reference to the next. \n",
    "The underlying implementation of Python’s list type is a bit different. Instead of several separate nodes\n",
    "referencing each other, a list is basically a single, contiguous slab of memory - what is usually known as an\n",
    "array. This leads to some important differences from linked lists. For example, while iterating over the contents\n",
    "of the list is equally efficient for both kinds (except for some overhead in the linked list), directly accessing an element at a given index is much more efficient in an array. This is because the position of the element can be\n",
    "calculated, and the right memory location can be accessed directly. In a linked list, however, one would have to\n",
    "traverse the list from the beginning.\n",
    "The difference we've been bumping up against, though, has to do with insertion. In a linked list, once you know\n",
    "where you want to insert something, insertion is cheap; it takes roughly the same amount of time, no matter how\n",
    "many elements the list contains. That's not the case with arrays: An insertion would have to move all elements\n",
    "that are to the right of the insertion point, possibly even moving all the elements to a larger array, if needed.\n",
    "A specific solution for appending is to use what’s often called a dynamic array, or vector. 4 The idea is to allocate an array that is too big and then to reallocate it in linear time whenever it overflows. It might seem that this makes the append just as bad as the insert. In both cases, we risk having to move a large number of elements.\n",
    "The main difference is that it happens less often with the append. In fact, if we can ensure that we always move\n",
    "to an array that is bigger than the last by a fixed percentage (say 20 percent or even 100 percent), the average\n",
    "cost, amortized over many appends, is constant."
   ]
  },
  {
   "cell_type": "markdown",
   "metadata": {
    "slideshow": {
     "slide_type": "subslide"
    }
   },
   "source": [
    "### enhance with `deque` objects"
   ]
  },
  {
   "cell_type": "markdown",
   "metadata": {},
   "source": [
    "`deque` implements *FIFO* queues: they are as cheap to append to the right as a normal `list`, but enhance it to *cheaply* insert on the *front* too."
   ]
  },
  {
   "cell_type": "code",
   "execution_count": 29,
   "metadata": {
    "slideshow": {
     "slide_type": "subslide"
    }
   },
   "outputs": [],
   "source": [
    "from collections import deque\n",
    "\n",
    "def enhanced_slow_countdown(count):\n",
    "    nums = deque()\n",
    "    for i in range(count):\n",
    "        nums.appendleft(i)\n",
    "    return nums"
   ]
  },
  {
   "cell_type": "code",
   "execution_count": 30,
   "metadata": {},
   "outputs": [
    {
     "name": "stdout",
     "output_type": "stream",
     "text": [
      "5.19 ms ± 159 µs per loop (mean ± std. dev. of 7 runs, 100 loops each)\n"
     ]
    }
   ],
   "source": [
    "%timeit nums = enhanced_slow_countdown(10**5)"
   ]
  },
  {
   "cell_type": "markdown",
   "metadata": {
    "slideshow": {
     "slide_type": "subslide"
    }
   },
   "source": [
    "## Hidden squares: concerning `list`s and `set`s"
   ]
  },
  {
   "cell_type": "code",
   "execution_count": 31,
   "metadata": {},
   "outputs": [],
   "source": [
    "from random import randrange\n",
    "\n",
    "max_value = 10000\n",
    "checks = 1000\n",
    "L = [randrange(max_value) for i in range(checks)]"
   ]
  },
  {
   "cell_type": "code",
   "execution_count": 33,
   "metadata": {
    "slideshow": {
     "slide_type": "subslide"
    }
   },
   "outputs": [
    {
     "name": "stdout",
     "output_type": "stream",
     "text": [
      "12.7 ms ± 644 µs per loop (mean ± std. dev. of 7 runs, 100 loops each)\n"
     ]
    }
   ],
   "source": [
    "%timeit [randrange(max_value) in L for _ in range(checks)]"
   ]
  },
  {
   "cell_type": "code",
   "execution_count": 37,
   "metadata": {},
   "outputs": [
    {
     "name": "stdout",
     "output_type": "stream",
     "text": [
      "439 µs ± 31.6 µs per loop (mean ± std. dev. of 7 runs, 1000 loops each)\n"
     ]
    }
   ],
   "source": [
    "S = set(L) # convert the list to a set object.\n",
    "\n",
    "%timeit [randrange(max_value) in S for _ in range(checks)]"
   ]
  },
  {
   "cell_type": "markdown",
   "metadata": {
    "slideshow": {
     "slide_type": "subslide"
    }
   },
   "source": [
    "Hetland's words, pag. 35:\n",
    "\n",
    ">They're both pretty fast, and it might seem pointless to create a set from the list—unnecessary work, right? Well,\n",
    "it depends. If you're going to do many membership checks, it might pay off, because membership checks are linear\n",
    "for lists and constant for sets. What if, for example, you were to gradually add values to a collection and for each step check whether the value was already added? [...] Using a list would give you quadratic running time, whereas using a set would be linear. That’s a huge difference. **The lesson is that it's important to pick the right built-in data structure for the job.**"
   ]
  },
  {
   "cell_type": "code",
   "execution_count": 67,
   "metadata": {
    "slideshow": {
     "slide_type": "subslide"
    }
   },
   "outputs": [
    {
     "data": {
      "text/plain": [
       "[1, 2, 3, 4, 5, 6]"
      ]
     },
     "execution_count": 67,
     "metadata": {},
     "output_type": "execute_result"
    }
   ],
   "source": [
    "lists = [[1, 2], [3, 4, 5], [6]]\n",
    "sum(lists, [])"
   ]
  },
  {
   "cell_type": "markdown",
   "metadata": {},
   "source": [
    "Hetland, pag.36:\n",
    "\n",
    ">This works, and it even looks rather elegant, but it really isn't. You see, under the covers, the sum function doesn't know all too much about what you’re summing, and it has to do one addition after another. That way, you're right back at the quadratic running time of the += example for strings. Here's a better way: Just try timing both versions. As long as lists is pretty short, there won't be much difference, but it shouldn't\n",
    "take long before the sum version is thoroughly beaten."
   ]
  },
  {
   "cell_type": "code",
   "execution_count": 69,
   "metadata": {
    "slideshow": {
     "slide_type": "subslide"
    }
   },
   "outputs": [
    {
     "data": {
      "text/plain": [
       "[1, 2, 3, 4, 5, 6]"
      ]
     },
     "execution_count": 69,
     "metadata": {},
     "output_type": "execute_result"
    }
   ],
   "source": [
    "res = []\n",
    "for lst in lists:\n",
    "    res.extend(lst)\n",
    "res"
   ]
  },
  {
   "cell_type": "markdown",
   "metadata": {},
   "source": [
    "try to do that with more populated lists..."
   ]
  },
  {
   "cell_type": "markdown",
   "metadata": {
    "slideshow": {
     "slide_type": "subslide"
    }
   },
   "source": [
    "### concerning `string`s"
   ]
  },
  {
   "cell_type": "code",
   "execution_count": 42,
   "metadata": {},
   "outputs": [],
   "source": [
    "def string_producer(length):\n",
    "    return ''.join([chr(randrange(ord('a'), ord('z'))) for _ in range(length)])"
   ]
  },
  {
   "cell_type": "code",
   "execution_count": 43,
   "metadata": {},
   "outputs": [
    {
     "name": "stdout",
     "output_type": "stream",
     "text": [
      "74.4 ms ± 5.29 ms per loop (mean ± std. dev. of 7 runs, 10 loops each)\n"
     ]
    }
   ],
   "source": [
    "%%timeit \n",
    "\n",
    "s = \"\"\n",
    "for chunk in string_producer(10**5):\n",
    "    s += chunk"
   ]
  },
  {
   "cell_type": "markdown",
   "metadata": {
    "slideshow": {
     "slide_type": "-"
    }
   },
   "source": [
    "maybe some optimization is performed because `s` is a `string` object."
   ]
  },
  {
   "cell_type": "code",
   "execution_count": 44,
   "metadata": {
    "slideshow": {
     "slide_type": "subslide"
    }
   },
   "outputs": [
    {
     "name": "stdout",
     "output_type": "stream",
     "text": [
      "61.5 ms ± 1.27 ms per loop (mean ± std. dev. of 7 runs, 10 loops each)\n"
     ]
    }
   ],
   "source": [
    "%%timeit\n",
    "\n",
    "chunks = []\n",
    "for chunk in string_producer(10**5):\n",
    "    chunks.append(chunk)\n",
    "s = ''.join(chunks)"
   ]
  },
  {
   "cell_type": "markdown",
   "metadata": {},
   "source": [
    "a better approach using constant `append` to the top"
   ]
  },
  {
   "cell_type": "code",
   "execution_count": 45,
   "metadata": {
    "slideshow": {
     "slide_type": "subslide"
    }
   },
   "outputs": [
    {
     "name": "stdout",
     "output_type": "stream",
     "text": [
      "60.1 ms ± 2.26 ms per loop (mean ± std. dev. of 7 runs, 10 loops each)\n"
     ]
    }
   ],
   "source": [
    "%timeit s = ''.join(string_producer(10**5))"
   ]
  },
  {
   "cell_type": "markdown",
   "metadata": {},
   "source": [
    "maybe a little better since it doesn't loop with `for` explicitly."
   ]
  },
  {
   "cell_type": "markdown",
   "metadata": {
    "slideshow": {
     "slide_type": "slide"
    }
   },
   "source": [
    "# Counting"
   ]
  },
  {
   "cell_type": "markdown",
   "metadata": {},
   "source": [
    "## Max permutation\n",
    "\n",
    ">Eight persons with very particular tastes have bought tickets to the movies. Some of them are happy with\n",
    "their seats, but most of them are not. Let’s say each of them has a favorite seat, and you want to find a way to let them switch seats to make as many people as possible happy with the result. However, all of them refuse to move to another seat if they can’t get their favorite.\n",
    "\n",
    "The following function `max_perm` computes the maximum permutation that can be applied given a desired one; namely,\n",
    "it produces a new permutation that moves as many elements as it can, in order to ensure the `one-to-one` property --  no one in the set points outside it, and each seat (in the set) is pointed\n",
    "to exactly once. It can be seen as a function that *fixes* a given permutation according to the required behavior."
   ]
  },
  {
   "cell_type": "code",
   "execution_count": 46,
   "metadata": {
    "slideshow": {
     "slide_type": "subslide"
    }
   },
   "outputs": [],
   "source": [
    "def perm_isomorphism(M, domain):\n",
    "    iso = dict(enumerate(domain))\n",
    "    return [iso[M[i]] for i in range(len(M))]\n",
    "\n",
    "def fix_perm(M, fix):\n",
    "    return [M[i] if i in fix else i for i in range(len(M))]"
   ]
  },
  {
   "cell_type": "markdown",
   "metadata": {
    "slideshow": {
     "slide_type": "subslide"
    }
   },
   "source": [
    "The following is a naive implementation, recursive but in $\\mathcal{O}(n^{2})$, where $n$ is the permutation length."
   ]
  },
  {
   "cell_type": "code",
   "execution_count": 48,
   "metadata": {},
   "outputs": [],
   "source": [
    "def naive_max_perm(M, A=None):\n",
    "    '''\n",
    "    Fix a permutation such that it is one-to-one and maximal, recursively.\n",
    "    \n",
    "    consumes:\n",
    "    M - a permutation as a list of integers\n",
    "    A - a set of positions allowed to move\n",
    "    \n",
    "    produces:\n",
    "    a set `fix` such that makes M maximal, ensuring to be one-to-one\n",
    "    '''\n",
    "    if A is None: A = set(range(len(M))) # init to handle first invocation, all elems can move\n",
    "    \n",
    "    if len(A) == 1: return A # recursion base, unary perm can move, trivial\n",
    "    \n",
    "    B = set(M[i] for i in A) # b in B iff b is desired by someone\n",
    "    C = A - B # c in C iff c isn't desired, so discard it\n",
    "    return naive_max_perm(M, A - C) if C else A # recur with desired position only"
   ]
  },
  {
   "cell_type": "code",
   "execution_count": 56,
   "metadata": {
    "slideshow": {
     "slide_type": "subslide"
    }
   },
   "outputs": [
    {
     "data": {
      "text/plain": [
       "['a', 'b', 'c', 'd', 'e', 'f', 'g', 'h']"
      ]
     },
     "execution_count": 56,
     "metadata": {},
     "output_type": "execute_result"
    }
   ],
   "source": [
    "I = range(8) # the identity permutation\n",
    "letters = \"abcdefgh\"\n",
    "perm_isomorphism(I, letters)"
   ]
  },
  {
   "cell_type": "code",
   "execution_count": 57,
   "metadata": {},
   "outputs": [
    {
     "data": {
      "text/plain": [
       "['c', 'c', 'a', 'f', 'd', 'f', 'h', 'e']"
      ]
     },
     "execution_count": 57,
     "metadata": {},
     "output_type": "execute_result"
    }
   ],
   "source": [
    "M = [2, 2, 0, 5, 3, 5, 7, 4]\n",
    "perm_isomorphism(M, letters)"
   ]
  },
  {
   "cell_type": "code",
   "execution_count": 54,
   "metadata": {
    "slideshow": {
     "slide_type": "subslide"
    }
   },
   "outputs": [
    {
     "data": {
      "text/plain": [
       "['c', 'b', 'a', 'd', 'e', 'f', 'g', 'h']"
      ]
     },
     "execution_count": 54,
     "metadata": {},
     "output_type": "execute_result"
    }
   ],
   "source": [
    "fix = naive_max_perm(M)\n",
    "max_M = fix_perm(M, fix)\n",
    "perm_isomorphism(max_M, letters)"
   ]
  },
  {
   "cell_type": "markdown",
   "metadata": {
    "slideshow": {
     "slide_type": "subslide"
    }
   },
   "source": [
    "Hetland, pag. 78:\n",
    "\n",
    ">The function `naive_max_perm` receives a set `A` of remaining people and creates a set `B` of seats that are pointed\n",
    "to. If it finds an element in `A` that is not in `B`, it removes the element and solves the remaining problem recursively. Let's use the implementation on our example, M = `[2, 2, 0, 5, 3, 5, 7, 4]`:\n"
   ]
  },
  {
   "cell_type": "code",
   "execution_count": 55,
   "metadata": {},
   "outputs": [
    {
     "data": {
      "text/plain": [
       "{0, 2, 5}"
      ]
     },
     "execution_count": 55,
     "metadata": {},
     "output_type": "execute_result"
    }
   ],
   "source": [
    "naive_max_perm(M)"
   ]
  },
  {
   "cell_type": "markdown",
   "metadata": {
    "slideshow": {
     "slide_type": "subslide"
    }
   },
   "source": [
    ">So, a, c, and f can take part in the permutation. The others will have to sit in nonfavorite seats.\n",
    "The implementation isn't too bad. The handy set type lets us manipulate sets with ready-made high-level operations,\n",
    "rather than having to implement them ourselves. There are some problems, though. For one thing, we might want an\n",
    "iterative solution. [...] A worse problem, though, is that the algorithm is quadratic! (Exercise 4-10 asks you to show this.) The most wasteful operation is the repeated creation of the set B. If we could just keep track of which chairs are no longer pointed to, we could eliminate this operation entirely. One way of doing this would be to keep a count for each element. We could decrement the count for chair x when a person pointing to x is eliminated, and if x ever got a count of zero, both person and chair x would be out of the game.\n",
    ">>This idea of reference counting can be useful in general. It is, for example, a basic component in many systems\n",
    "for garbage collection (a form of memory management that automatically deallocates objects that are no longer useful). You'll see this technique again in the discussion of topological sorting."
   ]
  },
  {
   "cell_type": "markdown",
   "metadata": {
    "slideshow": {
     "slide_type": "subslide"
    }
   },
   "source": [
    "\n",
    ">There may be more than one element to be eliminated at any one time, but we can just put any new ones we\n",
    "come across into a “to-do” list and deal with them later. If we needed to make sure the elements were eliminated in\n",
    "the order in which we discover that they’re no longer useful, we would need to use a first-in, first-out queue such as the deque class (discussed in Chapter 5). We don’t really care, so we could use a set, for example, but just appending to and popping from a list will probably give us quite a bit less overhead. But feel free to experiment, of course."
   ]
  },
  {
   "cell_type": "code",
   "execution_count": 58,
   "metadata": {
    "slideshow": {
     "slide_type": "subslide"
    }
   },
   "outputs": [],
   "source": [
    "def max_perm(M):\n",
    "    n = len(M) # How many elements?\n",
    "    A = set(range(n)) # A = {0, 1, ... , n-1}\n",
    "    count = Counter(M) # desired positions by frequencies\n",
    "    Q = deque([i for i in A if not count[i]]) # useless elements\n",
    "    while Q: # While useless elts. left...\n",
    "        i = Q.pop() # get one of them\n",
    "        A.remove(i) # remove it from the maximal permutation\n",
    "        j = M[i] # get its desired position\n",
    "        count[j] -= 1 # and release it for someone else\n",
    "        if not count[j]: # if such position isn't desired anymore\n",
    "            Q.appendleft(j) # enqueue such position in order to discard it            \n",
    "    return A"
   ]
  },
  {
   "cell_type": "code",
   "execution_count": 59,
   "metadata": {
    "slideshow": {
     "slide_type": "subslide"
    }
   },
   "outputs": [
    {
     "data": {
      "text/plain": [
       "['c', 'b', 'a', 'd', 'e', 'f', 'g', 'h']"
      ]
     },
     "execution_count": 59,
     "metadata": {},
     "output_type": "execute_result"
    }
   ],
   "source": [
    "fix = max_perm(M)\n",
    "max_M = fix_perm(M, fix)\n",
    "perm_isomorphism(max_M, letters)"
   ]
  },
  {
   "cell_type": "markdown",
   "metadata": {
    "slideshow": {
     "slide_type": "subslide"
    }
   },
   "source": [
    "## Counting Sort"
   ]
  },
  {
   "cell_type": "markdown",
   "metadata": {},
   "source": [
    "Hetland, pag 85:\n",
    "\n",
    ">By default, I'm just sorting objects based on their values. By supplying a key function, you can sort by\n",
    "anything you’d like. Note that the keys must be integers in a limited range. If this range is $0\\ldots k-1$, running time is then $\\mathcal{O}(n + k)$. (Note that although the common implementation simply counts the elements and then figures out where to put them in `B`, Python makes it easy to just build value lists for each key and then\n",
    "concatenate them.) If several values have the same key, they'll end up in the original order with respect to\n",
    "each other. Sorting algorithms with this property are called *stable*."
   ]
  },
  {
   "cell_type": "code",
   "execution_count": 62,
   "metadata": {
    "slideshow": {
     "slide_type": "subslide"
    }
   },
   "outputs": [],
   "source": [
    "def counting_sort(A, key=None, sort_boundary=None):\n",
    "    '''\n",
    "    Sorts the given collection A in linear time, assuming their elements are hashable.\n",
    "    \n",
    "    This implementation implements a vanilla counting sort, working in linear time respect\n",
    "    iterable length and spacing between objects. It works best if elements are evenly, namely\n",
    "    *uniformly* distributed in the domain; on contrast, if they are sparse and concentrated \n",
    "    near accumulation points, traversing distances between them is time consuming. \n",
    "    \n",
    "    If `sort_boundary` is instantiated to a float within [0,1], then the domain is ordered\n",
    "    using a classic loglinear algorithm before building the result.\n",
    "    '''\n",
    "    if key is None: key = lambda x: x\n",
    "        \n",
    "    B, C = [], defaultdict(list)\n",
    "    for x in A:\n",
    "        C[key(x)].append(x)\n",
    "    \n",
    "    domain = sorted(C)  if sort_boundary and len(C) <= len(A)*sort_boundary \\\n",
    "                        else range(min(C), max(C)+1)\n",
    "    for k in domain:\n",
    "        B.extend(C[k])\n",
    "        \n",
    "    return B"
   ]
  },
  {
   "cell_type": "code",
   "execution_count": 65,
   "metadata": {
    "slideshow": {
     "slide_type": "subslide"
    }
   },
   "outputs": [],
   "source": [
    "A = [randrange(50) for i in range(2*10**3)]\n",
    "\n",
    "assert sorted(A) == counting_sort(A)"
   ]
  },
  {
   "cell_type": "code",
   "execution_count": 68,
   "metadata": {
    "slideshow": {
     "slide_type": "subslide"
    }
   },
   "outputs": [
    {
     "data": {
      "image/png": "[encoded data removed]",
      "text/plain": [
       "<Figure size 576x576 with 1 Axes>"
      ]
     },
     "metadata": {
      "needs_background": "light"
     },
     "output_type": "display_data"
    }
   ],
   "source": [
    "n, bins, patches = plt.hist(A, 10, facecolor='green', alpha=0.5)\n",
    "plt.xlabel('elements'); plt.ylabel('frequencies'); plt.grid(True)\n",
    "plt.show()"
   ]
  },
  {
   "cell_type": "code",
   "execution_count": 69,
   "metadata": {
    "slideshow": {
     "slide_type": "subslide"
    }
   },
   "outputs": [
    {
     "name": "stdout",
     "output_type": "stream",
     "text": [
      "219 µs ± 10.7 µs per loop (mean ± std. dev. of 7 runs, 1000 loops each)\n"
     ]
    }
   ],
   "source": [
    "%timeit counting_sort(A)"
   ]
  },
  {
   "cell_type": "code",
   "execution_count": 70,
   "metadata": {},
   "outputs": [
    {
     "name": "stdout",
     "output_type": "stream",
     "text": [
      "206 µs ± 8.96 µs per loop (mean ± std. dev. of 7 runs, 1000 loops each)\n"
     ]
    }
   ],
   "source": [
    "%timeit counting_sort(A, sort_boundary=1)"
   ]
  },
  {
   "cell_type": "code",
   "execution_count": 72,
   "metadata": {
    "slideshow": {
     "slide_type": "subslide"
    }
   },
   "outputs": [],
   "source": [
    "B = ([randrange(50) for i in range(10**3)] + \n",
    "     [10**4 + randrange(50) for i in range(10**3)])"
   ]
  },
  {
   "cell_type": "code",
   "execution_count": 75,
   "metadata": {},
   "outputs": [
    {
     "data": {
      "image/png": "[encoded data removed]",
      "text/plain": [
       "<Figure size 576x576 with 1 Axes>"
      ]
     },
     "metadata": {
      "needs_background": "light"
     },
     "output_type": "display_data"
    }
   ],
   "source": [
    "n, bins, patches = plt.hist(B, 100, facecolor='green', alpha=0.5)\n",
    "plt.xlabel('elements'); plt.ylabel('frequencies'); plt.grid(True)\n",
    "plt.show()"
   ]
  },
  {
   "cell_type": "code",
   "execution_count": 76,
   "metadata": {
    "slideshow": {
     "slide_type": "subslide"
    }
   },
   "outputs": [],
   "source": [
    "assert sorted(B) == counting_sort(B)"
   ]
  },
  {
   "cell_type": "code",
   "execution_count": 77,
   "metadata": {},
   "outputs": [
    {
     "name": "stdout",
     "output_type": "stream",
     "text": [
      "2.01 ms ± 136 µs per loop (mean ± std. dev. of 7 runs, 100 loops each)\n"
     ]
    }
   ],
   "source": [
    "%timeit counting_sort(B)"
   ]
  },
  {
   "cell_type": "code",
   "execution_count": 78,
   "metadata": {},
   "outputs": [
    {
     "name": "stdout",
     "output_type": "stream",
     "text": [
      "247 µs ± 20.4 µs per loop (mean ± std. dev. of 7 runs, 1000 loops each)\n"
     ]
    }
   ],
   "source": [
    "%timeit counting_sort(B, sort_boundary=1/8)"
   ]
  }
 ],
 "metadata": {
  "celltoolbar": "Slideshow",
  "kernelspec": {
   "display_name": "Python 3",
   "language": "python",
   "name": "python3"
  },
  "language_info": {
   "codemirror_mode": {
    "name": "ipython",
    "version": 3
   },
   "file_extension": ".py",
   "mimetype": "text/x-python",
   "name": "python",
   "nbconvert_exporter": "python",
   "pygments_lexer": "ipython3",
   "version": "3.8.2"
  }
 },
 "nbformat": 4,
 "nbformat_minor": 1
}
