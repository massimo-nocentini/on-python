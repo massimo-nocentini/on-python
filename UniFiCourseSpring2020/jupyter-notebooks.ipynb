{
 "cells": [
  {
   "cell_type": "markdown",
   "metadata": {
    "slideshow": {
     "slide_type": "slide"
    }
   },
   "source": [
    "<p>\n",
    "<img src=\"http://www.cerm.unifi.it/chianti/images/logo%20unifi_positivo.jpg\" \n",
    "        alt=\"UniFI logo\" style=\"float: left; width: 20%; height: 20%;\">\n",
    "<div align=\"right\">\n",
    "    \n",
    "<small>\n",
    "Massimo Nocentini, PhD.\n",
    "<br><br>\n",
    "February 7, 2020: init\n",
    "</small>\n",
    "</div>\n",
    "</p>\n",
    "<br>\n",
    "<br>\n",
    "<div align=\"center\">\n",
    "<b>Abstract</b><br>\n",
    "A (very concise) introduction to the Python ecosystem.\n",
    "</div>"
   ]
  },
  {
   "cell_type": "code",
   "execution_count": 4,
   "metadata": {
    "slideshow": {
     "slide_type": "-"
    }
   },
   "outputs": [],
   "source": [
    "__AUTHORS__ = {'am': (\"Andrea Marino\", \n",
    "                      \"andrea.marino@unifi.it\",),\n",
    "               'mn': (\"Massimo Nocentini\", \n",
    "                      \"massimo.nocentini@unifi.it\", \n",
    "                      \"https://github.com/massimo-nocentini/\",)}\n",
    "\n",
    "__KEYWORDS__ = ['Python', 'Jupyter', 'notebooks', 'keynote',]"
   ]
  },
  {
   "cell_type": "markdown",
   "metadata": {},
   "source": [
    "<center><img src=\"https://upload.wikimedia.org/wikipedia/commons/c/c3/Python-logo-notext.svg\"></center>"
   ]
  },
  {
   "cell_type": "markdown",
   "metadata": {
    "slideshow": {
     "slide_type": "slide"
    }
   },
   "source": [
    "# IPython: Beyond Normal Python\n",
    "\n",
    "There are many options for development environments for Python, and I'm often asked which one I use in my own work.\n",
    "My answer sometimes surprises people: my preferred environment is [IPython](http://ipython.org/) plus a text editor (in my case, Emacs or Atom depending on my mood).\n",
    "IPython (short for *Interactive Python*) was started in 2001 by Fernando Perez as an enhanced Python interpreter, and has since grown into a project aiming to provide, in Perez's words, \"Tools for the entire life cycle of research computing.\"\n",
    "If Python is the engine of our data science task, you might think of IPython as the interactive control panel.\n",
    "\n",
    "As well as being a useful interactive interface to Python, IPython also provides a number of useful syntactic additions to the language; we'll cover the most useful of these additions here.\n",
    "In addition, IPython is closely tied with the [Jupyter project](http://jupyter.org), which provides a browser-based notebook that is useful for development, collaboration, sharing, and even publication of data science results.\n",
    "The IPython notebook is actually a special case of the broader Jupyter notebook structure, which encompasses notebooks for Julia, R, and other programming languages.\n",
    "As an example of the usefulness of the notebook format, look no further than the page you are reading: the entire manuscript for this book was composed as a set of IPython notebooks.\n",
    "\n",
    "IPython is about using Python effectively for interactive scientific and data-intensive computing.\n",
    "This chapter will start by stepping through some of the IPython features that are useful to the practice of data science, focusing especially on the syntax it offers beyond the standard features of Python.\n",
    "Next, we will go into a bit more depth on some of the more useful \"magic commands\" that can speed-up common tasks in creating and using data science code.\n",
    "Finally, we will touch on some of the features of the notebook that make it useful in understanding data and sharing results."
   ]
  },
  {
   "cell_type": "markdown",
   "metadata": {
    "slideshow": {
     "slide_type": "subslide"
    }
   },
   "source": [
    "## Shell or Notebook?\n",
    "\n",
    "There are two primary means of using IPython that we'll discuss in this chapter: the IPython shell and the IPython notebook.\n",
    "The bulk of the material in this chapter is relevant to both, and the examples will switch between them depending on what is most convenient.\n",
    "In the few sections that are relevant to just one or the other, we will explicitly state that fact.\n",
    "Before we start, some words on how to launch the IPython shell and IPython notebook."
   ]
  },
  {
   "cell_type": "markdown",
   "metadata": {
    "slideshow": {
     "slide_type": "subslide"
    }
   },
   "source": [
    "### Launching the IPython Shell\n",
    "\n",
    "This chapter, like most of this book, is not designed to be absorbed passively.\n",
    "I recommend that as you read through it, you follow along and experiment with the tools and syntax we cover: the muscle-memory you build through doing this will be far more useful than the simple act of reading about it.\n",
    "Start by launching the IPython interpreter by typing **``ipython``** on the command-line; alternatively, if you've installed a distribution like Anaconda or EPD, there may be a launcher specific to your system (we'll discuss this more fully in [Help and Documentation in IPython](01.01-Help-And-Documentation.ipynb)).\n",
    "\n",
    "Once you do this, you should see a prompt like the following:\n",
    "```\n",
    "IPython 4.0.1 -- An enhanced Interactive Python.\n",
    "?         -> Introduction and overview of IPython's features.\n",
    "%quickref -> Quick reference.\n",
    "help      -> Python's own help system.\n",
    "object?   -> Details about 'object', use 'object??' for extra details.\n",
    "In [1]:\n",
    "```\n",
    "With that, you're ready to follow along."
   ]
  },
  {
   "cell_type": "markdown",
   "metadata": {
    "slideshow": {
     "slide_type": "subslide"
    }
   },
   "source": [
    "### Launching the Jupyter Notebook\n",
    "\n",
    "The Jupyter notebook is a browser-based graphical interface to the IPython shell, and builds on it a rich set of dynamic display capabilities.\n",
    "As well as executing Python/IPython statements, the notebook allows the user to include formatted text, static and dynamic visualizations, mathematical equations, JavaScript widgets, and much more.\n",
    "Furthermore, these documents can be saved in a way that lets other people open them and execute the code on their own systems.\n",
    "\n",
    "Though the IPython notebook is viewed and edited through your web browser window, it must connect to a running Python process in order to execute code.\n",
    "This process (known as a \"kernel\") can be started by running the following command in your system shell:\n",
    "\n",
    "```\n",
    "$ jupyter notebook\n",
    "```\n"
   ]
  },
  {
   "cell_type": "markdown",
   "metadata": {
    "slideshow": {
     "slide_type": "subslide"
    }
   },
   "source": [
    "\n",
    "This command will launch a local web server that will be visible to your browser.\n",
    "It immediately spits out a log showing what it is doing; that log will look something like this:\n",
    "\n",
    "```\n",
    "$ jupyter notebook\n",
    "[NotebookApp] Serving notebooks from local directory: /Users/jakevdp/PythonDataScienceHandbook\n",
    "[NotebookApp] 0 active kernels \n",
    "[NotebookApp] The IPython Notebook is running at: http://localhost:8888/\n",
    "[NotebookApp] Use Control-C to stop this server and shut down all kernels (twice to skip confirmation).\n",
    "```\n",
    "\n",
    "Upon issuing the command, your default browser should automatically open and navigate to the listed local URL;\n",
    "the exact address will depend on your system.\n",
    "If the browser does not open automatically, you can open a window and manually open this address (*http://localhost:8888/* in this example)."
   ]
  },
  {
   "cell_type": "markdown",
   "metadata": {
    "slideshow": {
     "slide_type": "slide"
    }
   },
   "source": [
    "# Help and Documentation in IPython\n",
    "\n",
    "If you read no other section in this chapter, read this one: I find the tools discussed here to be the most transformative contributions of IPython to my daily workflow.\n",
    "\n",
    "When a technologically-minded person is asked to help a friend, family member, or colleague with a computer problem, most of the time it's less a matter of knowing the answer as much as knowing how to quickly find an unknown answer.\n",
    "\n",
    "In data science it's the same: searchable web resources such as online documentation, mailing-list threads, and StackOverflow answers contain a wealth of information, even (especially?) if it is a topic you've found yourself searching before.\n",
    "\n",
    "*Being an effective practitioner of data science is less about memorizing the tool or command you should use for every possible situation, and more about learning to effectively find the information you don't know, whether through a web search engine or another means.*"
   ]
  },
  {
   "cell_type": "markdown",
   "metadata": {
    "slideshow": {
     "slide_type": "subslide"
    }
   },
   "source": [
    "One of the most useful functions of IPython/Jupyter is to shorten the gap between the user and the type of documentation and search that will help them do their work effectively.\n",
    "\n",
    "While web searches still play a role in answering complicated questions, an amazing amount of information can be found through IPython alone.\n",
    "Some examples of the questions IPython can help answer in a few keystrokes:\n",
    "\n",
    "- How do I call this function? What arguments and options does it have?\n",
    "- What does the source code of this Python object look like?\n",
    "- What is in this package I imported? What attributes or methods does this object have?\n",
    "\n",
    "Here we'll discuss IPython's tools to quickly access this information, namely the ``?`` character to explore documentation, the ``??`` characters to explore source code, and the Tab key for auto-completion."
   ]
  },
  {
   "cell_type": "markdown",
   "metadata": {
    "slideshow": {
     "slide_type": "slide"
    }
   },
   "source": [
    "## Accessing Documentation with ``?``\n",
    "\n",
    "The Python language and its data science ecosystem is built with the user in mind, and one big part of that is access to documentation.\n",
    "Every Python object contains the reference to a string, known as a *doc string*, which in most cases will contain a concise summary of the object and how to use it.\n",
    "Python has a built-in ``help()`` function that can access this information and prints the results.\n",
    "For example, to see the documentation of the built-in ``len`` function, you can do the following:"
   ]
  },
  {
   "cell_type": "code",
   "execution_count": 5,
   "metadata": {},
   "outputs": [
    {
     "name": "stdout",
     "output_type": "stream",
     "text": [
      "Help on built-in function len in module builtins:\n",
      "\n",
      "len(obj, /)\n",
      "    Return the number of items in a container.\n",
      "\n"
     ]
    }
   ],
   "source": [
    "help(len)"
   ]
  },
  {
   "cell_type": "markdown",
   "metadata": {
    "slideshow": {
     "slide_type": "subslide"
    }
   },
   "source": [
    "This notation works for just about anything, including object methods:"
   ]
  },
  {
   "cell_type": "code",
   "execution_count": 6,
   "metadata": {},
   "outputs": [
    {
     "name": "stdout",
     "output_type": "stream",
     "text": [
      "Help on built-in function insert:\n",
      "\n",
      "insert(index, object, /) method of builtins.list instance\n",
      "    Insert object before index.\n",
      "\n"
     ]
    }
   ],
   "source": [
    "L = [1, 2, 3]\n",
    "help(L.insert)"
   ]
  },
  {
   "cell_type": "markdown",
   "metadata": {
    "slideshow": {
     "slide_type": "subslide"
    }
   },
   "source": [
    "or even objects themselves, with the documentation from their type:"
   ]
  },
  {
   "cell_type": "code",
   "execution_count": 7,
   "metadata": {
    "scrolled": false
   },
   "outputs": [
    {
     "name": "stdout",
     "output_type": "stream",
     "text": [
      "Help on list object:\n",
      "\n",
      "class list(object)\n",
      " |  list(iterable=(), /)\n",
      " |  \n",
      " |  Built-in mutable sequence.\n",
      " |  \n",
      " |  If no argument is given, the constructor creates a new empty list.\n",
      " |  The argument must be an iterable if specified.\n",
      " |  \n",
      " |  Methods defined here:\n",
      " |  \n",
      " |  __add__(self, value, /)\n",
      " |      Return self+value.\n",
      " |  \n",
      " |  __contains__(self, key, /)\n",
      " |      Return key in self.\n",
      " |  \n",
      " |  __delitem__(self, key, /)\n",
      " |      Delete self[key].\n",
      " |  \n",
      " |  __eq__(self, value, /)\n",
      " |      Return self==value.\n",
      " |  \n",
      " |  __ge__(self, value, /)\n",
      " |      Return self>=value.\n",
      " |  \n",
      " |  __getattribute__(self, name, /)\n",
      " |      Return getattr(self, name).\n",
      " |  \n",
      " |  __getitem__(...)\n",
      " |      x.__getitem__(y) <==> x[y]\n",
      " |  \n",
      " |  __gt__(self, value, /)\n",
      " |      Return self>value.\n",
      " |  \n",
      " |  __iadd__(self, value, /)\n",
      " |      Implement self+=value.\n",
      " |  \n",
      " |  __imul__(self, value, /)\n",
      " |      Implement self*=value.\n",
      " |  \n",
      " |  __init__(self, /, *args, **kwargs)\n",
      " |      Initialize self.  See help(type(self)) for accurate signature.\n",
      " |  \n",
      " |  __iter__(self, /)\n",
      " |      Implement iter(self).\n",
      " |  \n",
      " |  __le__(self, value, /)\n",
      " |      Return self<=value.\n",
      " |  \n",
      " |  __len__(self, /)\n",
      " |      Return len(self).\n",
      " |  \n",
      " |  __lt__(self, value, /)\n",
      " |      Return self<value.\n",
      " |  \n",
      " |  __mul__(self, value, /)\n",
      " |      Return self*value.\n",
      " |  \n",
      " |  __ne__(self, value, /)\n",
      " |      Return self!=value.\n",
      " |  \n",
      " |  __repr__(self, /)\n",
      " |      Return repr(self).\n",
      " |  \n",
      " |  __reversed__(self, /)\n",
      " |      Return a reverse iterator over the list.\n",
      " |  \n",
      " |  __rmul__(self, value, /)\n",
      " |      Return value*self.\n",
      " |  \n",
      " |  __setitem__(self, key, value, /)\n",
      " |      Set self[key] to value.\n",
      " |  \n",
      " |  __sizeof__(self, /)\n",
      " |      Return the size of the list in memory, in bytes.\n",
      " |  \n",
      " |  append(self, object, /)\n",
      " |      Append object to the end of the list.\n",
      " |  \n",
      " |  clear(self, /)\n",
      " |      Remove all items from list.\n",
      " |  \n",
      " |  copy(self, /)\n",
      " |      Return a shallow copy of the list.\n",
      " |  \n",
      " |  count(self, value, /)\n",
      " |      Return number of occurrences of value.\n",
      " |  \n",
      " |  extend(self, iterable, /)\n",
      " |      Extend list by appending elements from the iterable.\n",
      " |  \n",
      " |  index(self, value, start=0, stop=9223372036854775807, /)\n",
      " |      Return first index of value.\n",
      " |      \n",
      " |      Raises ValueError if the value is not present.\n",
      " |  \n",
      " |  insert(self, index, object, /)\n",
      " |      Insert object before index.\n",
      " |  \n",
      " |  pop(self, index=-1, /)\n",
      " |      Remove and return item at index (default last).\n",
      " |      \n",
      " |      Raises IndexError if list is empty or index is out of range.\n",
      " |  \n",
      " |  remove(self, value, /)\n",
      " |      Remove first occurrence of value.\n",
      " |      \n",
      " |      Raises ValueError if the value is not present.\n",
      " |  \n",
      " |  reverse(self, /)\n",
      " |      Reverse *IN PLACE*.\n",
      " |  \n",
      " |  sort(self, /, *, key=None, reverse=False)\n",
      " |      Stable sort *IN PLACE*.\n",
      " |  \n",
      " |  ----------------------------------------------------------------------\n",
      " |  Static methods defined here:\n",
      " |  \n",
      " |  __new__(*args, **kwargs) from builtins.type\n",
      " |      Create and return a new object.  See help(type) for accurate signature.\n",
      " |  \n",
      " |  ----------------------------------------------------------------------\n",
      " |  Data and other attributes defined here:\n",
      " |  \n",
      " |  __hash__ = None\n",
      "\n"
     ]
    }
   ],
   "source": [
    "help(L)"
   ]
  },
  {
   "cell_type": "markdown",
   "metadata": {
    "slideshow": {
     "slide_type": "slide"
    }
   },
   "source": [
    "Importantly, this will even work for functions or other objects you create yourself!\n",
    "Here we'll define a small function with a docstring:"
   ]
  },
  {
   "cell_type": "code",
   "execution_count": 13,
   "metadata": {},
   "outputs": [],
   "source": [
    "def square(a):\n",
    "    \"\"\"Return the square of a.\"\"\"\n",
    "    return a ** 2"
   ]
  },
  {
   "cell_type": "markdown",
   "metadata": {},
   "source": [
    "Note that to create a docstring for our function, we simply placed a string literal in the first line.\n",
    "Because doc strings are usually multiple lines, by convention we used Python's triple-quote notation for multi-line strings."
   ]
  },
  {
   "cell_type": "code",
   "execution_count": 15,
   "metadata": {},
   "outputs": [
    {
     "name": "stdout",
     "output_type": "stream",
     "text": [
      "Help on function square in module __main__:\n",
      "\n",
      "square(a)\n",
      "    Return the square of a.\n",
      "\n"
     ]
    }
   ],
   "source": [
    "help(square)"
   ]
  },
  {
   "cell_type": "markdown",
   "metadata": {},
   "source": [
    "This quick access to documentation via docstrings is one reason you should get in the habit of always adding such inline documentation to the code you write!"
   ]
  },
  {
   "cell_type": "markdown",
   "metadata": {
    "slideshow": {
     "slide_type": "slide"
    }
   },
   "source": [
    "## Accessing Source Code with ``??``\n",
    "Because the Python language is so easily readable, another level of insight can usually be gained by reading the source code of the object you're curious about.\n",
    "IPython provides a shortcut to the source code with the double question mark (``??``):\n",
    "\n",
    "```ipython\n",
    "In [8]: square??\n",
    "Type:        function\n",
    "String form: <function square at 0x103713cb0>\n",
    "Definition:  square(a)\n",
    "Source:\n",
    "def square(a):\n",
    "    \"Return the square of a\"\n",
    "    return a ** 2\n",
    "```\n",
    "\n",
    "For simple functions like this, the double question-mark can give quick insight into the under-the-hood details."
   ]
  },
  {
   "cell_type": "markdown",
   "metadata": {
    "slideshow": {
     "slide_type": "subslide"
    }
   },
   "source": [
    "If you play with this much, you'll notice that sometimes the ``??`` suffix doesn't display any source code: this is generally because the object in question is not implemented in Python, but in C or some other compiled extension language.\n",
    "If this is the case, the ``??`` suffix gives the same output as the ``?`` suffix.\n",
    "You'll find this particularly with many of Python's built-in objects and types, for example ``len`` from above:\n",
    "\n",
    "```ipython\n",
    "In [9]: len??\n",
    "Type:        builtin_function_or_method\n",
    "String form: <built-in function len>\n",
    "Namespace:   Python builtin\n",
    "Docstring:\n",
    "len(object) -> integer\n",
    "\n",
    "Return the number of items of a sequence or mapping.\n",
    "```\n",
    "\n",
    "Using ``?`` and/or ``??`` gives a powerful and quick interface for finding information about what any Python function or module does."
   ]
  },
  {
   "cell_type": "markdown",
   "metadata": {
    "slideshow": {
     "slide_type": "slide"
    }
   },
   "source": [
    "## Exploring Modules with Tab-Completion\n",
    "\n",
    "IPython's other useful interface is the use of the tab key for auto-completion and exploration of the contents of objects, modules, and name-spaces.\n",
    "In the examples that follow, we'll use ``<TAB>`` to indicate when the Tab key should be pressed."
   ]
  },
  {
   "cell_type": "markdown",
   "metadata": {
    "slideshow": {
     "slide_type": "subslide"
    }
   },
   "source": [
    "### Tab-completion of object contents\n",
    "\n",
    "Every Python object has various attributes and methods associated with it.\n",
    "Like with the ``help`` function discussed before, Python has a built-in ``dir`` function that returns a list of these, but the tab-completion interface is much easier to use in practice.\n",
    "To see a list of all available attributes of an object, you can type the name of the object followed by a period (\"``.``\") character and the Tab key:\n",
    "\n",
    "```ipython\n",
    "In [10]: L.<TAB>\n",
    "L.append   L.copy     L.extend   L.insert   L.remove   L.sort     \n",
    "L.clear    L.count    L.index    L.pop      L.reverse  \n",
    "```\n",
    "\n",
    "To narrow-down the list, you can type the first character or several characters of the name, and the Tab key will find the matching attributes and methods:\n",
    "\n",
    "```ipython\n",
    "In [10]: L.c<TAB>\n",
    "L.clear  L.copy   L.count  \n",
    "\n",
    "In [10]: L.co<TAB>\n",
    "L.copy   L.count \n",
    "```"
   ]
  },
  {
   "cell_type": "markdown",
   "metadata": {
    "slideshow": {
     "slide_type": "subslide"
    }
   },
   "source": [
    "If there is only a single option, pressing the Tab key will complete the line for you.\n",
    "For example, the following will instantly be replaced with ``L.count``:\n",
    "\n",
    "```ipython\n",
    "In [10]: L.cou<TAB>\n",
    "\n",
    "```\n",
    "\n",
    "Though Python has no strictly-enforced distinction between public/external attributes and private/internal attributes, by convention a preceding underscore is used to denote such methods.\n",
    "For clarity, these private methods and special methods are omitted from the list by default, but it's possible to list them by explicitly typing the underscore:\n",
    "\n",
    "```ipython\n",
    "In [10]: L._<TAB>\n",
    "L.__add__           L.__gt__            L.__reduce__\n",
    "L.__class__         L.__hash__          L.__reduce_ex__\n",
    "```\n",
    "\n",
    "For brevity, we've only shown the first couple lines of the output.\n",
    "Most of these are Python's special double-underscore methods (often nicknamed \"dunder\" methods)."
   ]
  },
  {
   "cell_type": "markdown",
   "metadata": {
    "slideshow": {
     "slide_type": "slide"
    }
   },
   "source": [
    "### Tab completion when importing\n",
    "\n",
    "Tab completion is also useful when importing objects from packages.\n",
    "Here we'll use it to find all possible imports in the ``itertools`` package that start with ``co``:\n",
    "```\n",
    "In [10]: from itertools import co<TAB>\n",
    "combinations                   compress\n",
    "combinations_with_replacement  count\n",
    "```\n",
    "Similarly, you can use tab-completion to see which imports are available on your system (this will change depending on which third-party scripts and modules are visible to your Python session):\n",
    "```\n",
    "In [10]: import <TAB>\n",
    "Display all 399 possibilities? (y or n)\n",
    "Crypto              dis                 py_compile\n",
    "Cython              distutils           pyclbr\n",
    "...                 ...                 ...\n",
    "difflib             pwd                 zmq\n",
    "\n",
    "In [10]: import h<TAB>\n",
    "hashlib             hmac                http         \n",
    "heapq               html                husl         \n",
    "```\n",
    "(Note that for brevity, I did not print here all 399 importable packages and modules on my system.)"
   ]
  },
  {
   "cell_type": "markdown",
   "metadata": {
    "slideshow": {
     "slide_type": "slide"
    }
   },
   "source": [
    "### Beyond tab completion: wildcard matching\n",
    "\n",
    "Tab completion is useful if you know the first few characters of the object or attribute you're looking for, but is little help if you'd like to match characters at the middle or end of the word.\n",
    "For this use-case, IPython provides a means of wildcard matching for names using the ``*`` character.\n",
    "\n",
    "For example, we can use this to list every object in the namespace that ends with ``Warning``:\n",
    "\n",
    "```ipython\n",
    "In [10]: *Warning?\n",
    "BytesWarning                  RuntimeWarning\n",
    "DeprecationWarning            SyntaxWarning\n",
    "FutureWarning                 UnicodeWarning\n",
    "ImportWarning                 UserWarning\n",
    "PendingDeprecationWarning     Warning\n",
    "ResourceWarning\n",
    "```\n"
   ]
  },
  {
   "cell_type": "markdown",
   "metadata": {
    "slideshow": {
     "slide_type": "subslide"
    }
   },
   "source": [
    "\n",
    "Notice that the ``*`` character matches any string, including the empty string.\n",
    "\n",
    "Similarly, suppose we are looking for a string method that contains the word ``find`` somewhere in its name.\n",
    "We can search for it this way:\n",
    "\n",
    "```ipython\n",
    "In [10]: str.*find*?\n",
    "str.find\n",
    "str.rfind\n",
    "```\n",
    "\n",
    "I find this type of flexible wildcard search can be very useful for finding a particular command when getting to know a new package or reacquainting myself with a familiar one."
   ]
  },
  {
   "cell_type": "markdown",
   "metadata": {
    "slideshow": {
     "slide_type": "slide"
    }
   },
   "source": [
    "# IPython Magic Commands\n",
    "\n",
    "The previous two sections showed how IPython lets you use and explore Python efficiently and interactively.\n",
    "Here we'll begin discussing some of the enhancements that IPython adds on top of the normal Python syntax.\n",
    "These are known in IPython as *magic commands*, and are prefixed by the ``%`` character.\n",
    "These magic commands are designed to succinctly solve various common problems in standard data analysis.\n",
    "Magic commands come in two flavors: *line magics*, which are denoted by a single ``%`` prefix and operate on a single line of input, and *cell magics*, which are denoted by a double ``%%`` prefix and operate on multiple lines of input.\n",
    "We'll demonstrate and discuss a few brief examples here, and come back to more focused discussion of several useful magic commands later in the chapter."
   ]
  },
  {
   "cell_type": "markdown",
   "metadata": {
    "slideshow": {
     "slide_type": "subslide"
    }
   },
   "source": [
    "## Running External Code: ``%run``\n",
    "As you begin developing more extensive code, you will likely find yourself working in both IPython for interactive exploration, as well as a text editor to store code that you want to reuse.\n",
    "Rather than running this code in a new window, it can be convenient to run it within your IPython session.\n",
    "This can be done with the ``%run`` magic.\n",
    "\n",
    "For example, imagine you've created a ``myscript.py`` file with the following contents:"
   ]
  },
  {
   "cell_type": "code",
   "execution_count": 27,
   "metadata": {},
   "outputs": [
    {
     "name": "stdout",
     "output_type": "stream",
     "text": [
      "\n",
      "def square(x):\n",
      "    \"\"\"square a number\"\"\"\n",
      "    return x ** 2\n",
      "\n",
      "for N in range(1, 4):\n",
      "    print(N, \"squared is\", square(N))\n"
     ]
    }
   ],
   "source": [
    "%%bash\n",
    "\n",
    "cat my-script.py"
   ]
  },
  {
   "cell_type": "markdown",
   "metadata": {
    "slideshow": {
     "slide_type": "subslide"
    }
   },
   "source": [
    "You can execute this from your IPython session as follows:\n"
   ]
  },
  {
   "cell_type": "code",
   "execution_count": 28,
   "metadata": {},
   "outputs": [
    {
     "name": "stdout",
     "output_type": "stream",
     "text": [
      "1 squared is 1\n",
      "2 squared is 4\n",
      "3 squared is 9\n"
     ]
    }
   ],
   "source": [
    "%run my-script.py"
   ]
  },
  {
   "cell_type": "markdown",
   "metadata": {
    "slideshow": {
     "slide_type": "-"
    }
   },
   "source": [
    "\n",
    "Note also that after you've run this script, any functions defined within it are available for use in your IPython session:\n"
   ]
  },
  {
   "cell_type": "code",
   "execution_count": 29,
   "metadata": {},
   "outputs": [
    {
     "data": {
      "text/plain": [
       "25"
      ]
     },
     "execution_count": 29,
     "metadata": {},
     "output_type": "execute_result"
    }
   ],
   "source": [
    "square(5)"
   ]
  },
  {
   "cell_type": "markdown",
   "metadata": {},
   "source": [
    "\n",
    "There are several options to fine-tune how your code is run; you can see the documentation in the normal way, by typing **``%run?``** in the IPython interpreter."
   ]
  },
  {
   "cell_type": "markdown",
   "metadata": {
    "slideshow": {
     "slide_type": "slide"
    }
   },
   "source": [
    "## Timing Code Execution: ``%timeit``\n",
    "\n",
    "Another example of a useful magic function is ``%timeit``, which will automatically determine the execution time of the single-line Python statement that follows it.\n",
    "For example, we may want to check the performance of a list comprehension:\n",
    "\n",
    "```ipython\n",
    "In [8]: %timeit L = [n ** 2 for n in range(1000)]\n",
    "1000 loops, best of 3: 325 µs per loop\n",
    "```\n",
    "\n",
    "The benefit of ``%timeit`` is that for short commands it will automatically perform multiple runs in order to attain more robust results.\n",
    "\n"
   ]
  },
  {
   "cell_type": "markdown",
   "metadata": {
    "slideshow": {
     "slide_type": "subslide"
    }
   },
   "source": [
    "For multi line statements, adding a second ``%`` sign will turn this into a cell magic that can handle multiple lines of input.\n",
    "For example, here's the equivalent construction with a ``for``-loop:\n",
    "\n",
    "```ipython\n",
    "In [9]: %%timeit\n",
    "   ...: L = []\n",
    "   ...: for n in range(1000):\n",
    "   ...:     L.append(n ** 2)\n",
    "   ...: \n",
    "1000 loops, best of 3: 373 µs per loop\n",
    "```\n",
    "\n",
    "We can immediately see that list comprehensions are about 10% faster than the equivalent ``for``-loop construction in this case."
   ]
  },
  {
   "cell_type": "markdown",
   "metadata": {
    "slideshow": {
     "slide_type": "slide"
    }
   },
   "source": [
    "## Help on Magic Functions: ``?``, ``%magic``, and ``%lsmagic``\n",
    "\n",
    "Like normal Python functions, IPython magic functions have docstrings, and this useful\n",
    "documentation can be accessed in the standard manner.\n",
    "So, for example, to read the documentation of the ``%timeit`` magic simply type this:\n",
    "\n",
    "```ipython\n",
    "In [10]: %timeit?\n",
    "```\n",
    "\n",
    "Documentation for other functions can be accessed similarly.\n",
    "To access a general description of available magic functions, including some examples, you can type this:\n",
    "\n",
    "```ipython\n",
    "In [11]: %magic\n",
    "```\n",
    "\n",
    "For a quick and simple list of all available magic functions, type this:\n",
    "\n",
    "```ipython\n",
    "In [12]: %lsmagic\n",
    "```\n",
    "\n",
    "Finally, I'll mention that it is quite straightforward to define your own magic functions if you wish."
   ]
  },
  {
   "cell_type": "markdown",
   "metadata": {
    "slideshow": {
     "slide_type": "slide"
    }
   },
   "source": [
    "# Input and Output History\n",
    "\n",
    "Previously we saw that the IPython shell allows you to access previous commands with the up and down arrow keys, or equivalently the Ctrl-p/Ctrl-n shortcuts.\n",
    "Additionally, in both the shell and the notebook, IPython exposes several ways to obtain the output of previous commands, as well as string versions of the commands themselves.\n",
    "We'll explore those here."
   ]
  },
  {
   "cell_type": "markdown",
   "metadata": {
    "slideshow": {
     "slide_type": "subslide"
    }
   },
   "source": [
    "## IPython's ``In`` and ``Out`` Objects\n",
    "\n",
    "By now I imagine you're quite familiar with the ``In [1]:``/``Out[1]:`` style prompts used by IPython.\n",
    "But it turns out that these are not just pretty decoration: they give a clue as to how you can access previous inputs and outputs in your current session.\n",
    "Imagine you start a session that looks like this:\n",
    "\n"
   ]
  },
  {
   "cell_type": "code",
   "execution_count": 33,
   "metadata": {},
   "outputs": [
    {
     "data": {
      "text/plain": [
       "0.9092974268256817"
      ]
     },
     "execution_count": 33,
     "metadata": {},
     "output_type": "execute_result"
    }
   ],
   "source": [
    "import math\n",
    "\n",
    "math.sin(2)"
   ]
  },
  {
   "cell_type": "code",
   "execution_count": 32,
   "metadata": {},
   "outputs": [
    {
     "data": {
      "text/plain": [
       "-0.4161468365471424"
      ]
     },
     "execution_count": 32,
     "metadata": {},
     "output_type": "execute_result"
    }
   ],
   "source": [
    "math.cos(2)"
   ]
  },
  {
   "cell_type": "markdown",
   "metadata": {},
   "source": [
    "We've imported the built-in ``math`` package, then computed the sine and the cosine of the number 2.\n",
    "These inputs and outputs are displayed in the shell with ``In``/``Out`` labels, but there's more–IPython actually creates some Python variables called ``In`` and ``Out`` that are automatically updated to reflect this history:\n"
   ]
  },
  {
   "cell_type": "code",
   "execution_count": 35,
   "metadata": {
    "slideshow": {
     "slide_type": "subslide"
    }
   },
   "outputs": [
    {
     "name": "stdout",
     "output_type": "stream",
     "text": [
      "['', '__AUTHORS__ = {\\'am\\': (\"Andrea Marino\", \\n                      \"andrea.marino@unifi.it\",),\\n               \\'mn\\': (\"Massimo Nocentini\", \\n                      \"massimo.nocentini@unifi.it\", \\n                      \"https://github.com/massimo-nocentini/\",)}\\n\\n__KEYWORDS__ = [\\'Python\\', \\'Jupyter\\', \\'notebooks\\', \\'keynote\\',]', \"outline = []\\noutline.append('Hello!')\\noutline.append('Python')\\noutline.append('Whys and refs')\\noutline.append('On the shoulders of giants')\\noutline.append('Set the env up')\\noutline.append('Notebooks')\\noutline.append('Course agenda')\", 'help(len)', '__AUTHORS__ = {\\'am\\': (\"Andrea Marino\", \\n                      \"andrea.marino@unifi.it\",),\\n               \\'mn\\': (\"Massimo Nocentini\", \\n                      \"massimo.nocentini@unifi.it\", \\n                      \"https://github.com/massimo-nocentini/\",)}\\n\\n__KEYWORDS__ = [\\'Python\\', \\'Jupyter\\', \\'notebooks\\', \\'keynote\\',]', 'help(len)', 'L = [1, 2, 3]\\nhelp(L.insert)', 'help(L)', 'This notation works for just about anything, including object methods:', 'def square(a):\\n  \"\"\"Return the square of a.\"\"\"\\n      return a ** 2', 'def square(a):\\n   \"\"\"Return the square of a.\"\"\"\\n      return a ** 2', 'def square(a):\\n    \"\"\"Return the square of a.\"\"\"\\n    return a ** 2', 'def square(a):\\n    \\n    \"\"\"Return the square of a.\"\"\"\\n    return a ** 2', 'def square(a):\\n    \"\"\"Return the square of a.\"\"\"\\n    return a ** 2', 'This quick access to documentation via docstrings is one reason you should get in the habit of always adding such inline documentation to the code you write!', 'help(square)', \"get_ipython().run_line_magic('pinfo2', 'square')\", 'source(square)', \"get_ipython().run_cell_magic('help', 'square', '')\", '### Launching the Jupyter Notebook\\n\\nThe Jupyter notebook is a browser-based graphical interface to the IPython shell, and builds on it a rich set of dynamic display capabilities.\\nAs well as executing Python/IPython statements, the notebook allows the user to include formatted text, static and dynamic visualizations, mathematical equations, JavaScript widgets, and much more.\\nFurthermore, these documents can be saved in a way that lets other people open them and execute the code on their own systems.\\n\\nThough the IPython notebook is viewed and edited through your web browser window, it must connect to a running Python process in order to execute code.\\nThis process (known as a \"kernel\") can be started by running the following command in your system shell:\\n\\n```\\n$ jupyter notebook\\n```\\n\\nThis command will launch a local web server that will be visible to your browser.\\nIt immediately spits out a log showing what it is doing; that log will look something like this:\\n\\n```\\n$ jupyter notebook\\n[NotebookApp] Serving notebooks from local directory: /Users/jakevdp/PythonDataScienceHandbook\\n[NotebookApp] 0 active kernels \\n[NotebookApp] The IPython Notebook is running at: http://localhost:8888/\\n[NotebookApp] Use Control-C to stop this server and shut down all kernels (twice to skip confirmation).\\n```\\n\\nUpon issuing the command, your default browser should automatically open and navigate to the listed local URL;\\nthe exact address will depend on your system.\\nIf the browser does not open automatically, you can open a window and manually open this address (*http://localhost:8888/* in this example).', '*Warning', 'help(*Warning)', \"get_ipython().run_line_magic('psearch', '*Warning')\", \"get_ipython().run_line_magic('run', 'my-script.py')\", \"get_ipython().run_line_magic('bash', 'cat my-script.py')\", \"get_ipython().run_cell_magic('bash', 'cat my-script.py', '')\", \"get_ipython().run_cell_magic('bash', '', '\\\\ncat my-script.py\\\\n')\", \"get_ipython().run_cell_magic('bash', '', '\\\\ncat my-script.py\\\\n')\", \"get_ipython().run_line_magic('run', 'my-script.py')\", 'square(5)', 'import math\\n\\nmath.sin(2)', 'math.cos(2)', 'math.cos(2)', 'import math\\n\\nmath.sin(2)', 'print(In)', 'print(In)']\n"
     ]
    }
   ],
   "source": [
    "print(In)"
   ]
  },
  {
   "cell_type": "code",
   "execution_count": 36,
   "metadata": {},
   "outputs": [
    {
     "data": {
      "text/plain": [
       "{29: 25,\n",
       " 30: 0.9092974268256817,\n",
       " 31: -0.4161468365471424,\n",
       " 32: -0.4161468365471424,\n",
       " 33: 0.9092974268256817}"
      ]
     },
     "execution_count": 36,
     "metadata": {},
     "output_type": "execute_result"
    }
   ],
   "source": [
    "Out"
   ]
  },
  {
   "cell_type": "markdown",
   "metadata": {
    "slideshow": {
     "slide_type": "subslide"
    }
   },
   "source": [
    "The ``In`` object is a list, which keeps track of the commands in order (the first item in the list is a place-holder so that ``In[1]`` can refer to the first command):\n",
    "\n",
    "\n"
   ]
  },
  {
   "cell_type": "code",
   "execution_count": 38,
   "metadata": {},
   "outputs": [
    {
     "name": "stdout",
     "output_type": "stream",
     "text": [
      "__AUTHORS__ = {'am': (\"Andrea Marino\", \n",
      "                      \"andrea.marino@unifi.it\",),\n",
      "               'mn': (\"Massimo Nocentini\", \n",
      "                      \"massimo.nocentini@unifi.it\", \n",
      "                      \"https://github.com/massimo-nocentini/\",)}\n",
      "\n",
      "__KEYWORDS__ = ['Python', 'Jupyter', 'notebooks', 'keynote',]\n"
     ]
    }
   ],
   "source": [
    "print(In[1])\n",
    "import math"
   ]
  },
  {
   "cell_type": "markdown",
   "metadata": {
    "slideshow": {
     "slide_type": "subslide"
    }
   },
   "source": [
    "The ``Out`` object is not a list but a dictionary mapping input numbers to their outputs (if any):\n"
   ]
  },
  {
   "cell_type": "code",
   "execution_count": 39,
   "metadata": {},
   "outputs": [
    {
     "ename": "KeyError",
     "evalue": "2",
     "output_type": "error",
     "traceback": [
      "\u001b[0;31m---------------------------------------------------------------------------\u001b[0m",
      "\u001b[0;31mKeyError\u001b[0m                                  Traceback (most recent call last)",
      "\u001b[0;32m<ipython-input-39-99ed3452e2cf>\u001b[0m in \u001b[0;36m<module>\u001b[0;34m\u001b[0m\n\u001b[0;32m----> 1\u001b[0;31m \u001b[0mprint\u001b[0m\u001b[0;34m(\u001b[0m\u001b[0mOut\u001b[0m\u001b[0;34m[\u001b[0m\u001b[0;36m2\u001b[0m\u001b[0;34m]\u001b[0m\u001b[0;34m)\u001b[0m\u001b[0;34m\u001b[0m\u001b[0;34m\u001b[0m\u001b[0m\n\u001b[0m",
      "\u001b[0;31mKeyError\u001b[0m: 2"
     ]
    }
   ],
   "source": [
    "print(Out[2])"
   ]
  },
  {
   "cell_type": "markdown",
   "metadata": {},
   "source": [
    "\n",
    "\n",
    "Note that not all operations have outputs: for example, ``import`` statements and ``print`` statements don't affect the output.\n",
    "The latter may be surprising, but makes sense if you consider that ``print`` is a function that returns ``None``; for brevity, any command that returns ``None`` is not added to ``Out``.\n",
    "\n"
   ]
  },
  {
   "cell_type": "markdown",
   "metadata": {
    "slideshow": {
     "slide_type": "subslide"
    }
   },
   "source": [
    "Where this can be useful is if you want to interact with past results.\n",
    "For example, let's check the sum of ``sin(2) ** 2`` and ``cos(2) ** 2`` using the previously-computed results:\n"
   ]
  },
  {
   "cell_type": "code",
   "execution_count": 40,
   "metadata": {},
   "outputs": [
    {
     "ename": "KeyError",
     "evalue": "2",
     "output_type": "error",
     "traceback": [
      "\u001b[0;31m---------------------------------------------------------------------------\u001b[0m",
      "\u001b[0;31mKeyError\u001b[0m                                  Traceback (most recent call last)",
      "\u001b[0;32m<ipython-input-40-26f5e7e673c2>\u001b[0m in \u001b[0;36m<module>\u001b[0;34m\u001b[0m\n\u001b[0;32m----> 1\u001b[0;31m \u001b[0mOut\u001b[0m\u001b[0;34m[\u001b[0m\u001b[0;36m2\u001b[0m\u001b[0;34m]\u001b[0m \u001b[0;34m**\u001b[0m \u001b[0;36m2\u001b[0m \u001b[0;34m+\u001b[0m \u001b[0mOut\u001b[0m\u001b[0;34m[\u001b[0m\u001b[0;36m3\u001b[0m\u001b[0;34m]\u001b[0m \u001b[0;34m**\u001b[0m \u001b[0;36m2\u001b[0m\u001b[0;34m\u001b[0m\u001b[0;34m\u001b[0m\u001b[0m\n\u001b[0m",
      "\u001b[0;31mKeyError\u001b[0m: 2"
     ]
    }
   ],
   "source": [
    "Out[2] ** 2 + Out[3] ** 2"
   ]
  },
  {
   "cell_type": "markdown",
   "metadata": {},
   "source": [
    "\n",
    "\n",
    "The result is ``1.0`` as we'd expect from the well-known trigonometric identity.\n",
    "In this case, using these previous results probably is not necessary, but it can become very handy if you execute a very expensive computation and want to reuse the result!"
   ]
  },
  {
   "cell_type": "markdown",
   "metadata": {
    "slideshow": {
     "slide_type": "slide"
    }
   },
   "source": [
    "## Underscore Shortcuts and Previous Outputs\n",
    "\n",
    "The standard Python shell contains just one simple shortcut for accessing previous output; the variable ``_`` (i.e., a single underscore) is kept updated with the previous output; this works in IPython as well:\n"
   ]
  },
  {
   "cell_type": "code",
   "execution_count": 42,
   "metadata": {},
   "outputs": [
    {
     "name": "stdout",
     "output_type": "stream",
     "text": [
      "0.9092974268256817\n"
     ]
    }
   ],
   "source": [
    "print(_)"
   ]
  },
  {
   "cell_type": "markdown",
   "metadata": {},
   "source": [
    "\n",
    "\n",
    "But IPython takes this a bit further—you can use a double underscore to access the second-to-last output, and a triple underscore to access the third-to-last output (skipping any commands with no output):\n",
    "\n"
   ]
  },
  {
   "cell_type": "code",
   "execution_count": 44,
   "metadata": {},
   "outputs": [
    {
     "name": "stdout",
     "output_type": "stream",
     "text": [
      "-0.4161468365471424\n",
      "-0.4161468365471424\n"
     ]
    }
   ],
   "source": [
    "print(__)\n",
    "\n",
    "print(___)\n"
   ]
  },
  {
   "cell_type": "markdown",
   "metadata": {},
   "source": [
    "\n",
    "IPython stops there: more than three underscores starts to get a bit hard to count, and at that point it's easier to refer to the output by line number.\n",
    "\n",
    "There is one more shortcut we should mention, however–a shorthand for ``Out[X]`` is ``_X`` (i.e., a single underscore followed by the line number):\n",
    "\n"
   ]
  },
  {
   "cell_type": "code",
   "execution_count": 45,
   "metadata": {},
   "outputs": [
    {
     "ename": "KeyError",
     "evalue": "2",
     "output_type": "error",
     "traceback": [
      "\u001b[0;31m---------------------------------------------------------------------------\u001b[0m",
      "\u001b[0;31mKeyError\u001b[0m                                  Traceback (most recent call last)",
      "\u001b[0;32m<ipython-input-45-32d637638f50>\u001b[0m in \u001b[0;36m<module>\u001b[0;34m\u001b[0m\n\u001b[0;32m----> 1\u001b[0;31m \u001b[0mOut\u001b[0m\u001b[0;34m[\u001b[0m\u001b[0;36m2\u001b[0m\u001b[0;34m]\u001b[0m\u001b[0;34m,\u001b[0m \u001b[0m_2\u001b[0m\u001b[0;34m\u001b[0m\u001b[0;34m\u001b[0m\u001b[0m\n\u001b[0m",
      "\u001b[0;31mKeyError\u001b[0m: 2"
     ]
    }
   ],
   "source": [
    "Out[2], _2"
   ]
  },
  {
   "cell_type": "markdown",
   "metadata": {
    "slideshow": {
     "slide_type": "slide"
    }
   },
   "source": [
    "## Suppressing Output\n",
    "Sometimes you might wish to suppress the output of a statement (this is perhaps most common with the plotting commands that we'll explore in [Introduction to Matplotlib](04.00-Introduction-To-Matplotlib.ipynb)).\n",
    "Or maybe the command you're executing produces a result that you'd prefer not like to store in your output history, perhaps so that it can be deallocated when other references are removed.\n",
    "The easiest way to suppress the output of a command is to add a semicolon to the end omf the line:\n"
   ]
  },
  {
   "cell_type": "code",
   "execution_count": 50,
   "metadata": {},
   "outputs": [],
   "source": [
    "math.sin(2) + math.cos(2);"
   ]
  },
  {
   "cell_type": "markdown",
   "metadata": {},
   "source": [
    "\n",
    "Note that the result is computed silently, and the output is neither displayed on the screen or stored in the ``Out`` dictionary:"
   ]
  },
  {
   "cell_type": "code",
   "execution_count": 51,
   "metadata": {},
   "outputs": [
    {
     "data": {
      "text/plain": [
       "False"
      ]
     },
     "execution_count": 51,
     "metadata": {},
     "output_type": "execute_result"
    }
   ],
   "source": [
    "14 in Out"
   ]
  },
  {
   "cell_type": "markdown",
   "metadata": {
    "slideshow": {
     "slide_type": "slide"
    }
   },
   "source": [
    "## Related Magic Commands\n",
    "For accessing a batch of previous inputs at once, the ``%history`` magic command is very helpful.\n",
    "Here is how you can print the first four inputs:"
   ]
  },
  {
   "cell_type": "code",
   "execution_count": 53,
   "metadata": {},
   "outputs": [
    {
     "name": "stdout",
     "output_type": "stream",
     "text": [
      "   1:\n",
      "__AUTHORS__ = {'am': (\"Andrea Marino\", \n",
      "                      \"andrea.marino@unifi.it\",),\n",
      "               'mn': (\"Massimo Nocentini\", \n",
      "                      \"massimo.nocentini@unifi.it\", \n",
      "                      \"https://github.com/massimo-nocentini/\",)}\n",
      "\n",
      "__KEYWORDS__ = ['Python', 'Jupyter', 'notebooks', 'keynote',]\n",
      "   2:\n",
      "outline = []\n",
      "outline.append('Hello!')\n",
      "outline.append('Python')\n",
      "outline.append('Whys and refs')\n",
      "outline.append('On the shoulders of giants')\n",
      "outline.append('Set the env up')\n",
      "outline.append('Notebooks')\n",
      "outline.append('Course agenda')\n",
      "   3: help(len)\n",
      "   4:\n",
      "__AUTHORS__ = {'am': (\"Andrea Marino\", \n",
      "                      \"andrea.marino@unifi.it\",),\n",
      "               'mn': (\"Massimo Nocentini\", \n",
      "                      \"massimo.nocentini@unifi.it\", \n",
      "                      \"https://github.com/massimo-nocentini/\",)}\n",
      "\n",
      "__KEYWORDS__ = ['Python', 'Jupyter', 'notebooks', 'keynote',]\n"
     ]
    }
   ],
   "source": [
    " %history -n 1-4"
   ]
  },
  {
   "cell_type": "markdown",
   "metadata": {},
   "source": [
    "\n",
    "As usual, you can type ``%history?`` for more information and a description of options available.\n",
    "Other similar magic commands are ``%rerun`` (which will re-execute some portion of the command history) and ``%save`` (which saves some set of the command history to a file).\n",
    "For more information, I suggest exploring these using the ``?`` help functionality discussed in [Help and Documentation in IPython](01.01-Help-And-Documentation.ipynb)."
   ]
  }
 ],
 "metadata": {
  "celltoolbar": "Slideshow",
  "kernelspec": {
   "display_name": "Python 3",
   "language": "python",
   "name": "python3"
  },
  "language_info": {
   "codemirror_mode": {
    "name": "ipython",
    "version": 3
   },
   "file_extension": ".py",
   "mimetype": "text/x-python",
   "name": "python",
   "nbconvert_exporter": "python",
   "pygments_lexer": "ipython3",
   "version": "3.7.3"
  }
 },
 "nbformat": 4,
 "nbformat_minor": 1
}
